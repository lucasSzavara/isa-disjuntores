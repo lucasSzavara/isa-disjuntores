{
 "cells": [
  {
   "cell_type": "code",
   "execution_count": 1,
   "id": "fc3d5374-3fa9-4a4e-b819-996e302b3623",
   "metadata": {},
   "outputs": [],
   "source": [
    "import pandas as pd\n",
    "import numpy as np\n",
    "import matplotlib.pyplot as plt"
   ]
  },
  {
   "cell_type": "code",
   "execution_count": 2,
   "id": "1c418554-a2af-47f4-8309-a9c0c42178b7",
   "metadata": {},
   "outputs": [],
   "source": [
    "df_medidas = pd.read_excel('./dados/BD_Disjuntores.xlsx', sheet_name='Documentos de Medida')"
   ]
  },
  {
   "cell_type": "markdown",
   "id": "eedfdac4-4828-4a84-a542-7f8e45aef962",
   "metadata": {},
   "source": [
    "# Análise a Partir de Equipamento"
   ]
  },
  {
   "cell_type": "markdown",
   "id": "0153d1c2-deb6-4836-adb2-1cde0baf4686",
   "metadata": {},
   "source": [
    "A ideia da análise é encontrar valores determinados para os equipamentos em questão com base em seus pontos de medição, e, ainda, em seus documentos de medição. Para isso será necessário:\n",
    "\n",
    "1. Definir uma classificação base para cada documento de medição.\n",
    "2. Classificar os pontos de medição com base nos documentos de medição.\n",
    "3. Classificar os equipamentos com base nos pontos de medição. "
   ]
  },
  {
   "cell_type": "markdown",
   "id": "a8987398-d408-47ca-a1e0-ae2153ab22c4",
   "metadata": {
    "jp-MarkdownHeadingCollapsed": true
   },
   "source": [
    "## Definir classificação para cada ponto de medição"
   ]
  },
  {
   "cell_type": "code",
   "execution_count": 3,
   "id": "2ec07406-aa32-4cdb-9ab3-4fe29a85cd11",
   "metadata": {},
   "outputs": [
    {
     "data": {
      "text/plain": [
       "'90.39%'"
      ]
     },
     "execution_count": 3,
     "metadata": {},
     "output_type": "execute_result"
    }
   ],
   "source": [
    "str((df_medidas['Cód.valorização'].isna().mean() * 100).round(2)) + '%'"
   ]
  },
  {
   "cell_type": "markdown",
   "id": "999f508b-fb88-4dbf-90a2-03ad7897a79e",
   "metadata": {},
   "source": [
    "A maior parte dos pontos de medição (90%) não possuem de forma explícita a classificação, será necessário realizar um scrapping nas outras colunas de dados para encontrar a classificação real de cada um dos termos."
   ]
  },
  {
   "cell_type": "markdown",
   "id": "8fa3f5cf-5c14-43a0-abee-199ebdcb87a3",
   "metadata": {},
   "source": [
    "### Código de Valorização"
   ]
  },
  {
   "cell_type": "markdown",
   "id": "9f08a828-084e-4870-bd08-0a482378e96e",
   "metadata": {},
   "source": [
    "Código de valorização é a coluna que contém os valores para a classificação do documento de medição. Será transcrita diretamente para a coluna 'Classifica', de modo que não perdemos os dados originais."
   ]
  },
  {
   "cell_type": "code",
   "execution_count": 4,
   "id": "9a1f0e1a-0322-4271-bf95-f245d65704f9",
   "metadata": {},
   "outputs": [
    {
     "data": {
      "text/plain": [
       "Classifica\n",
       "nan    129262\n",
       "2.0     12490\n",
       "1.0       762\n",
       "4.0       439\n",
       "3.0        44\n",
       "5.0         2\n",
       "Name: count, dtype: int64"
      ]
     },
     "execution_count": 4,
     "metadata": {},
     "output_type": "execute_result"
    }
   ],
   "source": [
    "df_medidas['Classifica'] = df_medidas['Cód.valorização'].round(1).astype(str)\n",
    "df_medidas['Classifica'].value_counts()"
   ]
  },
  {
   "cell_type": "markdown",
   "id": "ff2a9bb8-1251-4039-97ba-fc5a9cffbd15",
   "metadata": {},
   "source": [
    "### Texto"
   ]
  },
  {
   "cell_type": "markdown",
   "id": "e9cad099-d852-4c68-8d45-1ecc93b71c3d",
   "metadata": {},
   "source": [
    "O campo texto é o mais genérico da tabela, sem ter uma função específica, serviria como anotação da classificação do documento de medição para análise futura. Teoria essa mais fundada pela forte presença de 5, 3 e 2 na tabela."
   ]
  },
  {
   "cell_type": "code",
   "execution_count": 5,
   "id": "540c7364-c1dd-42e8-b473-06bbc52551b4",
   "metadata": {},
   "outputs": [
    {
     "data": {
      "text/plain": [
       "Texto\n",
       "5                                           69746\n",
       "3                                            9960\n",
       "2                                            5123\n",
       "Saneamento Contadores                        1672\n",
       "/TEMPO FORA DO INTERVALO DE OPERAÇÃO:FEC      902\n",
       "                                            ...  \n",
       "acumulados agosto /2019                         1\n",
       "acumulado mês dezembro 2019                     1\n",
       "Acumulados mês outubro 2020                     1\n",
       "PONTO QUENTE. RES ISOL ABERT CAM1: ENTRE        1\n",
       "Leitura Dezembro/18                             1\n",
       "Name: count, Length: 1029, dtype: int64"
      ]
     },
     "execution_count": 5,
     "metadata": {},
     "output_type": "execute_result"
    }
   ],
   "source": [
    "df_medidas['Texto'].value_counts()"
   ]
  },
  {
   "cell_type": "code",
   "execution_count": 6,
   "id": "181b6189-0f8a-4d35-ad07-2c4eb2ee4ebc",
   "metadata": {},
   "outputs": [],
   "source": [
    "categorias = ['0', '1', '2', '3', '4', '5']\n",
    "\n",
    "filtro = (df_medidas['Texto'].isin(categorias)) \n",
    "lenA = filtro.sum()\n",
    "\n",
    "filtro = filtro & (df_medidas['Classifica'] == 'nan')\n",
    "lenB = filtro.sum()\n",
    "\n",
    "df_medidas.loc[filtro, 'Classifica'] = df_medidas.loc[filtro, 'Texto']\n",
    "\n",
    "del filtro\n",
    "del categorias"
   ]
  },
  {
   "cell_type": "code",
   "execution_count": 7,
   "id": "71e84a18-d16a-48a1-9d84-a0cbf3e0280a",
   "metadata": {},
   "outputs": [
    {
     "name": "stdout",
     "output_type": "stream",
     "text": [
      "Precisão 0.875\n"
     ]
    }
   ],
   "source": [
    "print(f\"Precisão {(lenB/lenA):.3f}\")\n",
    "del lenA\n",
    "del lenB"
   ]
  },
  {
   "cell_type": "code",
   "execution_count": 8,
   "id": "caa5635d-9a4c-4f19-a277-4539704d3601",
   "metadata": {},
   "outputs": [
    {
     "data": {
      "text/plain": [
       "Classifica\n",
       "5      59663\n",
       "nan    54451\n",
       "2.0    12490\n",
       "3       9422\n",
       "2       5123\n",
       "1.0      762\n",
       "1        603\n",
       "4.0      439\n",
       "3.0       44\n",
       "5.0        2\n",
       "Name: count, dtype: int64"
      ]
     },
     "execution_count": 8,
     "metadata": {},
     "output_type": "execute_result"
    }
   ],
   "source": [
    "df_medidas['Classifica'].value_counts()"
   ]
  },
  {
   "cell_type": "markdown",
   "id": "c4dee598-9fd3-48d5-8d2e-f35c18273178",
   "metadata": {},
   "source": [
    "Como vemos, o conflito da coluna é baixo (0.875) com aquilo que já existe na tabela (Código de Valorização). Valorizando a ideia de que a coluna também era usada para armazenamento de classificações. Vale pontuar que o uso da segunda coluna reduz o buraco na cobertura em 67.9%"
   ]
  },
  {
   "cell_type": "markdown",
   "id": "d628e4ff-3ae8-44ed-9d1e-b674c79cdf7b",
   "metadata": {},
   "source": [
    "### Valor Teórico"
   ]
  },
  {
   "cell_type": "markdown",
   "id": "b6259d9a-1e84-4020-8334-f466c8760daa",
   "metadata": {},
   "source": [
    "Coluna que contém o valor teórico esperado para determinada medição. Por mais que não seja a tabela com os valores previstos para a classificação, a grande presença de '1.0' e de '5.0' me leva a crer no uso secundário dessa coluna para armazenamento de valores."
   ]
  },
  {
   "cell_type": "code",
   "execution_count": 9,
   "id": "75c65103-6ad6-4910-9d8e-8107d928452f",
   "metadata": {},
   "outputs": [
    {
     "data": {
      "text/plain": [
       "Valor teórico\n",
       "540.0      11112\n",
       "35.0        7372\n",
       "1.0         4787\n",
       "5.0         3770\n",
       "20000.0     3655\n",
       "           ...  \n",
       "4.7            2\n",
       "225.0          1\n",
       "27.5           1\n",
       "101.0          1\n",
       "4.0            1\n",
       "Name: count, Length: 210, dtype: int64"
      ]
     },
     "execution_count": 9,
     "metadata": {},
     "output_type": "execute_result"
    }
   ],
   "source": [
    "df_medidas['Valor teórico'].value_counts()"
   ]
  },
  {
   "cell_type": "code",
   "execution_count": 10,
   "id": "a931c876-ec64-47da-92d9-9c0e5d37b019",
   "metadata": {},
   "outputs": [],
   "source": [
    "categorias = ['0.0', '1.0', '2.0', '3.0', '4.0', '5.0']\n",
    "\n",
    "filtro = df_medidas['Valor teórico'].astype(str).isin(categorias)\n",
    "lenA = filtro.sum()\n",
    "\n",
    "filtro = filtro & (df_medidas['Classifica'] == 'nan')\n",
    "lenB = filtro.sum()\n",
    "\n",
    "df_medidas.loc[filtro, 'Classifica'] = df_medidas.loc[filtro, 'Valor teórico']\n",
    "\n",
    "del filtro\n",
    "del categorias"
   ]
  },
  {
   "cell_type": "code",
   "execution_count": 11,
   "id": "5e95e902-ddec-4cc0-a45e-5bc8034548a9",
   "metadata": {},
   "outputs": [
    {
     "name": "stdout",
     "output_type": "stream",
     "text": [
      "Precisão 0.6352\n"
     ]
    }
   ],
   "source": [
    "print(f\"Precisão {(lenB/lenA):.4f}\")\n",
    "del lenA\n",
    "del lenB"
   ]
  },
  {
   "cell_type": "code",
   "execution_count": 12,
   "id": "056faf73-57f8-43c8-983f-e49c7756305d",
   "metadata": {},
   "outputs": [
    {
     "data": {
      "text/plain": [
       "Classifica\n",
       "5      59663\n",
       "nan    48140\n",
       "2.0    12490\n",
       "3       9422\n",
       "2       5123\n",
       "1.0     4787\n",
       "0.0     1325\n",
       "1.0      762\n",
       "1        603\n",
       "4.0      439\n",
       "5.0      198\n",
       "3.0       44\n",
       "5.0        2\n",
       "4.0        1\n",
       "Name: count, dtype: int64"
      ]
     },
     "execution_count": 12,
     "metadata": {},
     "output_type": "execute_result"
    }
   ],
   "source": [
    "df_medidas['Classifica'].value_counts()"
   ]
  },
  {
   "cell_type": "markdown",
   "id": "e84a37cd-3e47-407c-b108-5557c37e31c6",
   "metadata": {},
   "source": [
    "Como vemos, o conflito da coluna é baixissimo (0.996) com aquilo que já existia na tabela (Código de Valorização), sendo moderado (0.635) quando comparado ao 'Texto'. Isso leva a crer que a coluna poderia também ser usada para armazenamento de classificações. Vale elencar que com a adição da 3a coluna, o buraco na cobertura é reduzido em 11,5%"
   ]
  },
  {
   "cell_type": "code",
   "execution_count": 13,
   "id": "2504e978-6cfb-4097-b7d7-cebc2056edbc",
   "metadata": {},
   "outputs": [],
   "source": [
    "### Ideia de análise para valores 'duplicados'\n",
    "# filtroAux = filtro & ((df_medidas['Classifica'] == 'nan') | ((df_medidas['Classifica'] == df_medidas['Valor teórico'])))"
   ]
  },
  {
   "cell_type": "markdown",
   "id": "24db7041-862d-40c7-ab5c-2f4c747093ba",
   "metadata": {},
   "source": [
    "### Homogenização da coluna classifica"
   ]
  },
  {
   "cell_type": "code",
   "execution_count": 35,
   "id": "ba2c2e0b-3f46-4e4d-89ee-0707c64092ef",
   "metadata": {},
   "outputs": [],
   "source": [
    "df_medidas['Classifica'] = df_medidas['Classifica'].replace(['nan', 'NaN'], np.nan)\n",
    "df_medidas['Classifica'] = df_medidas['Classifica'].astype(float)\n",
    "# df_medidas['Classifica'] = df_medidas['Classifica'].map(lambda x: f\"{x:.0f}\" if pd.notnull(x) else np.nan)"
   ]
  },
  {
   "cell_type": "code",
   "execution_count": 15,
   "id": "100d3470-3c43-4391-900b-fcfebff8dd07",
   "metadata": {},
   "outputs": [
    {
     "data": {
      "text/plain": [
       "Classifica\n",
       "5    59863\n",
       "2    17613\n",
       "3     9466\n",
       "1     6152\n",
       "0     1325\n",
       "4      440\n",
       "Name: count, dtype: int64"
      ]
     },
     "execution_count": 15,
     "metadata": {},
     "output_type": "execute_result"
    }
   ],
   "source": [
    "df_medidas['Classifica'].value_counts()"
   ]
  },
  {
   "cell_type": "code",
   "execution_count": 16,
   "id": "69e487eb-1da4-45bb-bf6d-225a11ffb7cc",
   "metadata": {},
   "outputs": [
    {
     "data": {
      "text/plain": [
       "'33.66%'"
      ]
     },
     "execution_count": 16,
     "metadata": {},
     "output_type": "execute_result"
    }
   ],
   "source": [
    "str((df_medidas['Classifica'].isna().mean() * 100).round(2)) + '%'"
   ]
  },
  {
   "cell_type": "markdown",
   "id": "de0995ab-b8f9-4ffc-972c-b523b0bdedc9",
   "metadata": {},
   "source": [
    "Como resultado do uso de colunas auxiliares para maximização da presença de classificação nas linhas da tabela, chegando a uma cobertura de 75% da tabela. Vale ressaltar que a metodologia utiliza de métodos que diminuem a qualidade do resultado esperado."
   ]
  },
  {
   "cell_type": "markdown",
   "id": "5be3b558-e0cb-45ff-89c7-c6c918bd9c89",
   "metadata": {
    "jp-MarkdownHeadingCollapsed": true
   },
   "source": [
    "## Visualização de Resultados"
   ]
  },
  {
   "cell_type": "code",
   "execution_count": 17,
   "id": "bddddad3-8a63-4df7-8af8-a2acee1c36b7",
   "metadata": {},
   "outputs": [
    {
     "data": {
      "image/png": "[encoded data removed]",
      "text/plain": [
       "<Figure size 640x480 with 1 Axes>"
      ]
     },
     "metadata": {},
     "output_type": "display_data"
    }
   ],
   "source": [
    "contagem = df_medidas['Classifica'].value_counts()\n",
    "\n",
    "# Plot do gráfico de pizza\n",
    "plt.pie(contagem, labels=contagem.index, autopct='%1.1f%%', startangle=90)\n",
    "plt.title('Distribuição das Categorias')\n",
    "plt.axis('equal')\n",
    "plt.show()"
   ]
  },
  {
   "cell_type": "code",
   "execution_count": 36,
   "id": "e2a0d152-4ef5-40bb-a6c6-98cce430007f",
   "metadata": {},
   "outputs": [],
   "source": [
    "df_filtrado = df_medidas[df_medidas['Classifica'].notnull()]\n",
    "doc_mais_frequente = df_filtrado['Ponto medição'].value_counts().idxmax()\n",
    "df_doc = df_filtrado[df_filtrado['Ponto medição'] == doc_mais_frequente]\n",
    "df_doc = df_doc.sort_values('Data')"
   ]
  },
  {
   "cell_type": "code",
   "execution_count": 38,
   "id": "f8fa9ef9-bc43-41b0-bc05-9816598e68a4",
   "metadata": {},
   "outputs": [
    {
     "data": {
      "image/png": "[encoded data removed]",
      "text/plain": [
       "<Figure size 640x480 with 1 Axes>"
      ]
     },
     "metadata": {},
     "output_type": "display_data"
    }
   ],
   "source": [
    "plt.plot(df_doc['Data'], df_doc['Classifica'], marker='o', linestyle='-')\n",
    "plt.title(f\"Evolução de 'Classifica' para Ponto Medição {doc_mais_frequente}\")\n",
    "plt.xlabel(\"Data\")\n",
    "plt.ylabel(\"Classifica\")\n",
    "plt.yticks(range(6))\n",
    "plt.grid(True)\n",
    "plt.show()"
   ]
  },
  {
   "cell_type": "code",
   "execution_count": 42,
   "id": "b2794da7-09cb-4bb3-a01e-f73d46e8e8e4",
   "metadata": {},
   "outputs": [],
   "source": [
    "equipamento_mais_pontos = (\n",
    "  df_filtrado.groupby('Equipamento')['Ponto medição']\n",
    "  .nunique()\n",
    "  .idxmax()\n",
    ")\n",
    "df_eqp = df_filtrado[df_filtrado['Equipamento'] == equipamento_mais_pontos]\n",
    "df_eqp = df_eqp.sort_values('Data')"
   ]
  },
  {
   "cell_type": "code",
   "execution_count": 44,
   "id": "1a5df9e3-f316-4753-bfd2-5ba6879cd140",
   "metadata": {},
   "outputs": [
    {
     "data": {
      "image/png": "[encoded data removed]",
      "text/plain": [
       "<Figure size 1200x600 with 1 Axes>"
      ]
     },
     "metadata": {},
     "output_type": "display_data"
    }
   ],
   "source": [
    "# Plotar uma linha para cada ponto de medição\n",
    "plt.figure(figsize=(12, 6))\n",
    "for ponto, grupo in df_eqp.groupby('Ponto medição'):\n",
    "  plt.plot(grupo['Data'], grupo['Classifica'], marker='o', linestyle='-', label=f'{ponto}')\n",
    "\n",
    "plt.title(f\"Evolução de 'Classifica' para o Equipamento {equipamento_mais_pontos}\")\n",
    "plt.xlabel(\"Data\")\n",
    "plt.ylabel(\"Classifica\")\n",
    "plt.yticks(range(6))\n",
    "plt.grid(True)\n",
    "# plt.legend(title='Ponto Medição', bbox_to_anchor=(1.05, 1), loc='upper left')\n",
    "plt.tight_layout()\n",
    "plt.show()"
   ]
  },
  {
   "cell_type": "markdown",
   "id": "ff5dda88-f496-4dbb-818f-e3f844417e62",
   "metadata": {
    "jp-MarkdownHeadingCollapsed": true
   },
   "source": [
    "## Busca por chaves duplicatas (nada feito)"
   ]
  },
  {
   "cell_type": "markdown",
   "id": "2255fff2-ef62-4b86-a9cc-9bb25dbe86b7",
   "metadata": {},
   "source": [
    "### Mais de um ponto por documento"
   ]
  },
  {
   "cell_type": "code",
   "execution_count": 20,
   "id": "1542f955-a174-473d-8f52-28f082e2c357",
   "metadata": {},
   "outputs": [
    {
     "data": {
      "text/html": [
       "<div>\n",
       "<style scoped>\n",
       "    .dataframe tbody tr th:only-of-type {\n",
       "        vertical-align: middle;\n",
       "    }\n",
       "\n",
       "    .dataframe tbody tr th {\n",
       "        vertical-align: top;\n",
       "    }\n",
       "\n",
       "    .dataframe thead th {\n",
       "        text-align: right;\n",
       "    }\n",
       "</style>\n",
       "<table border=\"1\" class=\"dataframe\">\n",
       "  <thead>\n",
       "    <tr style=\"text-align: right;\">\n",
       "      <th></th>\n",
       "      <th>Doc.medição</th>\n",
       "      <th>Ponto medição</th>\n",
       "    </tr>\n",
       "  </thead>\n",
       "  <tbody>\n",
       "  </tbody>\n",
       "</table>\n",
       "</div>"
      ],
      "text/plain": [
       "Empty DataFrame\n",
       "Columns: [Doc.medição, Ponto medição]\n",
       "Index: []"
      ]
     },
     "execution_count": 20,
     "metadata": {},
     "output_type": "execute_result"
    }
   ],
   "source": [
    "duplic = df_medidas.groupby('Doc.medição')['Ponto medição'].nunique().reset_index()\n",
    "duplic[duplic['Ponto medição'] > 1]"
   ]
  },
  {
   "cell_type": "markdown",
   "id": "67b3e899-47e8-4acb-b0d4-4e3f7446eece",
   "metadata": {},
   "source": [
    "### Mais de um equipamento por ponto"
   ]
  },
  {
   "cell_type": "code",
   "execution_count": 21,
   "id": "e0382293-908f-418d-9b9f-15ea65af3ddc",
   "metadata": {},
   "outputs": [
    {
     "data": {
      "text/html": [
       "<div>\n",
       "<style scoped>\n",
       "    .dataframe tbody tr th:only-of-type {\n",
       "        vertical-align: middle;\n",
       "    }\n",
       "\n",
       "    .dataframe tbody tr th {\n",
       "        vertical-align: top;\n",
       "    }\n",
       "\n",
       "    .dataframe thead th {\n",
       "        text-align: right;\n",
       "    }\n",
       "</style>\n",
       "<table border=\"1\" class=\"dataframe\">\n",
       "  <thead>\n",
       "    <tr style=\"text-align: right;\">\n",
       "      <th></th>\n",
       "      <th>Ponto medição</th>\n",
       "      <th>Equipamento</th>\n",
       "    </tr>\n",
       "  </thead>\n",
       "  <tbody>\n",
       "    <tr>\n",
       "      <th>38228</th>\n",
       "      <td>467492</td>\n",
       "      <td>2</td>\n",
       "    </tr>\n",
       "  </tbody>\n",
       "</table>\n",
       "</div>"
      ],
      "text/plain": [
       "       Ponto medição  Equipamento\n",
       "38228         467492            2"
      ]
     },
     "execution_count": 21,
     "metadata": {},
     "output_type": "execute_result"
    }
   ],
   "source": [
    "duplic = df_medidas.groupby('Ponto medição')['Equipamento'].nunique().reset_index()\n",
    "duplic = duplic[duplic['Equipamento'] > 1]\n",
    "duplic"
   ]
  },
  {
   "cell_type": "code",
   "execution_count": 22,
   "id": "5c4db658-76b9-4a33-83e1-964c65a06c7f",
   "metadata": {},
   "outputs": [
    {
     "data": {
      "text/html": [
       "<div>\n",
       "<style scoped>\n",
       "    .dataframe tbody tr th:only-of-type {\n",
       "        vertical-align: middle;\n",
       "    }\n",
       "\n",
       "    .dataframe tbody tr th {\n",
       "        vertical-align: top;\n",
       "    }\n",
       "\n",
       "    .dataframe thead th {\n",
       "        text-align: right;\n",
       "    }\n",
       "</style>\n",
       "<table border=\"1\" class=\"dataframe\">\n",
       "  <thead>\n",
       "    <tr style=\"text-align: right;\">\n",
       "      <th></th>\n",
       "      <th>Equipamento</th>\n",
       "      <th>Ponto medição</th>\n",
       "      <th>Doc.medição</th>\n",
       "      <th>Data</th>\n",
       "      <th>Valor teórico</th>\n",
       "      <th>LimInfIntMed.</th>\n",
       "      <th>LimSupIntMed.</th>\n",
       "      <th>ValMed/PosTCont</th>\n",
       "      <th>Unid.caracter.</th>\n",
       "      <th>Cód.valorização</th>\n",
       "      <th>Txt.code codif.</th>\n",
       "      <th>Denominação</th>\n",
       "      <th>Texto</th>\n",
       "      <th>Classifica</th>\n",
       "    </tr>\n",
       "  </thead>\n",
       "  <tbody>\n",
       "    <tr>\n",
       "      <th>17</th>\n",
       "      <td>127874</td>\n",
       "      <td>467492</td>\n",
       "      <td>5985385</td>\n",
       "      <td>2023-11-14</td>\n",
       "      <td>1.0</td>\n",
       "      <td>0.0</td>\n",
       "      <td>1.0</td>\n",
       "      <td>0.26</td>\n",
       "      <td>%</td>\n",
       "      <td>NaN</td>\n",
       "      <td>NaN</td>\n",
       "      <td>Fator de Potencia Bucha B2 Fase A</td>\n",
       "      <td>NaN</td>\n",
       "      <td>1</td>\n",
       "    </tr>\n",
       "    <tr>\n",
       "      <th>18</th>\n",
       "      <td>467509</td>\n",
       "      <td>467492</td>\n",
       "      <td>732683</td>\n",
       "      <td>2015-09-27</td>\n",
       "      <td>1.0</td>\n",
       "      <td>0.0</td>\n",
       "      <td>1.0</td>\n",
       "      <td>0.29</td>\n",
       "      <td>%</td>\n",
       "      <td>NaN</td>\n",
       "      <td>NaN</td>\n",
       "      <td>Fator de Potencia Bucha B2 Fase A</td>\n",
       "      <td>Ensaio realizado 12/05/2009</td>\n",
       "      <td>1</td>\n",
       "    </tr>\n",
       "    <tr>\n",
       "      <th>19</th>\n",
       "      <td>127874</td>\n",
       "      <td>467492</td>\n",
       "      <td>737867</td>\n",
       "      <td>2009-05-12</td>\n",
       "      <td>1.0</td>\n",
       "      <td>0.0</td>\n",
       "      <td>1.0</td>\n",
       "      <td>0.29</td>\n",
       "      <td>%</td>\n",
       "      <td>NaN</td>\n",
       "      <td>NaN</td>\n",
       "      <td>Fator de Potencia Bucha B2 Fase A</td>\n",
       "      <td>NaN</td>\n",
       "      <td>1</td>\n",
       "    </tr>\n",
       "  </tbody>\n",
       "</table>\n",
       "</div>"
      ],
      "text/plain": [
       "    Equipamento  Ponto medição  Doc.medição       Data  Valor teórico  \\\n",
       "17       127874         467492      5985385 2023-11-14            1.0   \n",
       "18       467509         467492       732683 2015-09-27            1.0   \n",
       "19       127874         467492       737867 2009-05-12            1.0   \n",
       "\n",
       "    LimInfIntMed.  LimSupIntMed.  ValMed/PosTCont Unid.caracter.  \\\n",
       "17            0.0            1.0             0.26              %   \n",
       "18            0.0            1.0             0.29              %   \n",
       "19            0.0            1.0             0.29              %   \n",
       "\n",
       "    Cód.valorização Txt.code codif.                        Denominação  \\\n",
       "17              NaN             NaN  Fator de Potencia Bucha B2 Fase A   \n",
       "18              NaN             NaN  Fator de Potencia Bucha B2 Fase A   \n",
       "19              NaN             NaN  Fator de Potencia Bucha B2 Fase A   \n",
       "\n",
       "                          Texto Classifica  \n",
       "17                          NaN          1  \n",
       "18  Ensaio realizado 12/05/2009          1  \n",
       "19                          NaN          1  "
      ]
     },
     "execution_count": 22,
     "metadata": {},
     "output_type": "execute_result"
    }
   ],
   "source": [
    "df_medidas[df_medidas['Ponto medição'].isin(duplic['Ponto medição'])]"
   ]
  }
 ],
 "metadata": {
  "kernelspec": {
   "display_name": "Python 3 (ipykernel)",
   "language": "python",
   "name": "python3"
  },
  "language_info": {
   "codemirror_mode": {
    "name": "ipython",
    "version": 3
   },
   "file_extension": ".py",
   "mimetype": "text/x-python",
   "name": "python",
   "nbconvert_exporter": "python",
   "pygments_lexer": "ipython3",
   "version": "3.11.7"
  }
 },
 "nbformat": 4,
 "nbformat_minor": 5
}
