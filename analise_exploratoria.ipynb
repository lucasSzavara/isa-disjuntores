{
 "cells": [
  {
   "cell_type": "markdown",
   "id": "b406a5cf-0727-4dea-972d-8e4345ca1c72",
   "metadata": {},
   "source": [
    "## Bibliotecas"
   ]
  },
  {
   "cell_type": "code",
   "execution_count": null,
   "id": "8e97b176-e381-4c78-92d1-ed49f6135a98",
   "metadata": {},
   "outputs": [],
   "source": [
    "#!pip install wordcloud\n",
    "#!pip install seaborn"
   ]
  },
  {
   "cell_type": "code",
   "execution_count": 1,
   "id": "initial_id",
   "metadata": {
    "ExecuteTime": {
     "end_time": "2025-03-23T18:41:23.947135Z",
     "start_time": "2025-03-23T18:41:09.377875Z"
    }
   },
   "outputs": [],
   "source": [
    "import pandas as pd\n",
    "import numpy as np\n",
    "import matplotlib.pyplot as plt\n",
    "from wordcloud import WordCloud, ImageColorGenerator\n",
    "import seaborn as sns\n",
    "\n",
    "# Definir o tema pastel no Seaborn\n",
    "sns.set_palette(\"pastel\") "
   ]
  },
  {
   "cell_type": "markdown",
   "id": "44386169-4ee2-4e68-a0e4-858dc68f21b4",
   "metadata": {},
   "source": [
    "## Ingestão"
   ]
  },
  {
   "cell_type": "code",
   "execution_count": 3,
   "id": "23ed95e69bc21d47",
   "metadata": {
    "ExecuteTime": {
     "end_time": "2025-03-23T18:43:17.009827Z",
     "start_time": "2025-03-23T18:42:20.007990Z"
    }
   },
   "outputs": [],
   "source": [
    "df_medidas = pd.read_excel('./dados/BD_Disjuntores.xlsx', sheet_name='Documentos de Medida')"
   ]
  },
  {
   "cell_type": "code",
   "execution_count": 4,
   "id": "4a8d61a75a6c7588",
   "metadata": {
    "ExecuteTime": {
     "end_time": "2025-03-23T18:44:17.206484Z",
     "start_time": "2025-03-23T18:44:10.470231Z"
    }
   },
   "outputs": [
    {
     "data": {
      "text/html": [
       "<div>\n",
       "<style scoped>\n",
       "    .dataframe tbody tr th:only-of-type {\n",
       "        vertical-align: middle;\n",
       "    }\n",
       "\n",
       "    .dataframe tbody tr th {\n",
       "        vertical-align: top;\n",
       "    }\n",
       "\n",
       "    .dataframe thead th {\n",
       "        text-align: right;\n",
       "    }\n",
       "</style>\n",
       "<table border=\"1\" class=\"dataframe\">\n",
       "  <thead>\n",
       "    <tr style=\"text-align: right;\">\n",
       "      <th></th>\n",
       "      <th>Equipamento</th>\n",
       "      <th>Fabricante</th>\n",
       "      <th>Modelo</th>\n",
       "      <th>Dt.entr.serviço</th>\n",
       "      <th>Classe</th>\n",
       "      <th>Ano construção</th>\n",
       "      <th>Código ABC</th>\n",
       "      <th>Tensão</th>\n",
       "      <th>Tipo Instalação</th>\n",
       "      <th>Ponto medição</th>\n",
       "      <th>...</th>\n",
       "      <th>Data</th>\n",
       "      <th>Valor teórico</th>\n",
       "      <th>LimInfIntMed.</th>\n",
       "      <th>LimSupIntMed.</th>\n",
       "      <th>ValMed/PosTCont</th>\n",
       "      <th>Unid.caracter.</th>\n",
       "      <th>Cód.valorização</th>\n",
       "      <th>Txt.code codif.</th>\n",
       "      <th>Denominação</th>\n",
       "      <th>Texto</th>\n",
       "    </tr>\n",
       "  </thead>\n",
       "  <tbody>\n",
       "    <tr>\n",
       "      <th>0</th>\n",
       "      <td>270715</td>\n",
       "      <td>GENERAL ELECTRIC</td>\n",
       "      <td>GL314P</td>\n",
       "      <td>2019-09-07</td>\n",
       "      <td>S_DISJ_SF6</td>\n",
       "      <td>2017</td>\n",
       "      <td>C</td>\n",
       "      <td>230.0</td>\n",
       "      <td>Bay de Linha</td>\n",
       "      <td>467488.0</td>\n",
       "      <td>...</td>\n",
       "      <td>2015-09-27</td>\n",
       "      <td>NaN</td>\n",
       "      <td>0.0</td>\n",
       "      <td>NaN</td>\n",
       "      <td>0.0</td>\n",
       "      <td>UN</td>\n",
       "      <td>2.0</td>\n",
       "      <td>Não</td>\n",
       "      <td>Comp/tes Elétricos-Instrum Risco de Avar</td>\n",
       "      <td>5</td>\n",
       "    </tr>\n",
       "    <tr>\n",
       "      <th>1</th>\n",
       "      <td>270715</td>\n",
       "      <td>GENERAL ELECTRIC</td>\n",
       "      <td>GL314P</td>\n",
       "      <td>2019-09-07</td>\n",
       "      <td>S_DISJ_SF6</td>\n",
       "      <td>2017</td>\n",
       "      <td>C</td>\n",
       "      <td>230.0</td>\n",
       "      <td>Bay de Linha</td>\n",
       "      <td>9758414.0</td>\n",
       "      <td>...</td>\n",
       "      <td>2024-03-08</td>\n",
       "      <td>NaN</td>\n",
       "      <td>0.0</td>\n",
       "      <td>NaN</td>\n",
       "      <td>NaN</td>\n",
       "      <td>UN</td>\n",
       "      <td>2.0</td>\n",
       "      <td>Não</td>\n",
       "      <td>Comp/tes Elétricos-Instrum Risco de Avar</td>\n",
       "      <td>5</td>\n",
       "    </tr>\n",
       "    <tr>\n",
       "      <th>2</th>\n",
       "      <td>270715</td>\n",
       "      <td>GENERAL ELECTRIC</td>\n",
       "      <td>GL314P</td>\n",
       "      <td>2019-09-07</td>\n",
       "      <td>S_DISJ_SF6</td>\n",
       "      <td>2017</td>\n",
       "      <td>C</td>\n",
       "      <td>230.0</td>\n",
       "      <td>Bay de Linha</td>\n",
       "      <td>9758414.0</td>\n",
       "      <td>...</td>\n",
       "      <td>2021-11-24</td>\n",
       "      <td>NaN</td>\n",
       "      <td>0.0</td>\n",
       "      <td>NaN</td>\n",
       "      <td>NaN</td>\n",
       "      <td>UN</td>\n",
       "      <td>2.0</td>\n",
       "      <td>Não</td>\n",
       "      <td>Comp/tes Elétricos-Instrum Risco de Avar</td>\n",
       "      <td>5</td>\n",
       "    </tr>\n",
       "    <tr>\n",
       "      <th>3</th>\n",
       "      <td>270715</td>\n",
       "      <td>GENERAL ELECTRIC</td>\n",
       "      <td>GL314P</td>\n",
       "      <td>2019-09-07</td>\n",
       "      <td>S_DISJ_SF6</td>\n",
       "      <td>2017</td>\n",
       "      <td>C</td>\n",
       "      <td>230.0</td>\n",
       "      <td>Bay de Linha</td>\n",
       "      <td>9758413.0</td>\n",
       "      <td>...</td>\n",
       "      <td>2024-03-08</td>\n",
       "      <td>NaN</td>\n",
       "      <td>0.0</td>\n",
       "      <td>NaN</td>\n",
       "      <td>NaN</td>\n",
       "      <td>UN</td>\n",
       "      <td>2.0</td>\n",
       "      <td>Não</td>\n",
       "      <td>Comp/tes Mecânicos com Risco de Avaria</td>\n",
       "      <td>5</td>\n",
       "    </tr>\n",
       "    <tr>\n",
       "      <th>4</th>\n",
       "      <td>270715</td>\n",
       "      <td>GENERAL ELECTRIC</td>\n",
       "      <td>GL314P</td>\n",
       "      <td>2019-09-07</td>\n",
       "      <td>S_DISJ_SF6</td>\n",
       "      <td>2017</td>\n",
       "      <td>C</td>\n",
       "      <td>230.0</td>\n",
       "      <td>Bay de Linha</td>\n",
       "      <td>9758413.0</td>\n",
       "      <td>...</td>\n",
       "      <td>2021-11-24</td>\n",
       "      <td>NaN</td>\n",
       "      <td>0.0</td>\n",
       "      <td>NaN</td>\n",
       "      <td>NaN</td>\n",
       "      <td>UN</td>\n",
       "      <td>2.0</td>\n",
       "      <td>Não</td>\n",
       "      <td>Comp/tes Mecânicos com Risco de Avaria</td>\n",
       "      <td>5</td>\n",
       "    </tr>\n",
       "  </tbody>\n",
       "</table>\n",
       "<p>5 rows × 21 columns</p>\n",
       "</div>"
      ],
      "text/plain": [
       "   Equipamento        Fabricante  Modelo Dt.entr.serviço      Classe  \\\n",
       "0       270715  GENERAL ELECTRIC  GL314P      2019-09-07  S_DISJ_SF6   \n",
       "1       270715  GENERAL ELECTRIC  GL314P      2019-09-07  S_DISJ_SF6   \n",
       "2       270715  GENERAL ELECTRIC  GL314P      2019-09-07  S_DISJ_SF6   \n",
       "3       270715  GENERAL ELECTRIC  GL314P      2019-09-07  S_DISJ_SF6   \n",
       "4       270715  GENERAL ELECTRIC  GL314P      2019-09-07  S_DISJ_SF6   \n",
       "\n",
       "   Ano construção Código ABC  Tensão Tipo Instalação  Ponto medição  ...  \\\n",
       "0            2017          C   230.0    Bay de Linha       467488.0  ...   \n",
       "1            2017          C   230.0    Bay de Linha      9758414.0  ...   \n",
       "2            2017          C   230.0    Bay de Linha      9758414.0  ...   \n",
       "3            2017          C   230.0    Bay de Linha      9758413.0  ...   \n",
       "4            2017          C   230.0    Bay de Linha      9758413.0  ...   \n",
       "\n",
       "        Data Valor teórico  LimInfIntMed.  LimSupIntMed.  ValMed/PosTCont  \\\n",
       "0 2015-09-27           NaN            0.0            NaN              0.0   \n",
       "1 2024-03-08           NaN            0.0            NaN              NaN   \n",
       "2 2021-11-24           NaN            0.0            NaN              NaN   \n",
       "3 2024-03-08           NaN            0.0            NaN              NaN   \n",
       "4 2021-11-24           NaN            0.0            NaN              NaN   \n",
       "\n",
       "   Unid.caracter. Cód.valorização  Txt.code codif.  \\\n",
       "0              UN             2.0              Não   \n",
       "1              UN             2.0              Não   \n",
       "2              UN             2.0              Não   \n",
       "3              UN             2.0              Não   \n",
       "4              UN             2.0              Não   \n",
       "\n",
       "                                Denominação Texto  \n",
       "0  Comp/tes Elétricos-Instrum Risco de Avar     5  \n",
       "1  Comp/tes Elétricos-Instrum Risco de Avar     5  \n",
       "2  Comp/tes Elétricos-Instrum Risco de Avar     5  \n",
       "3    Comp/tes Mecânicos com Risco de Avaria     5  \n",
       "4    Comp/tes Mecânicos com Risco de Avaria     5  \n",
       "\n",
       "[5 rows x 21 columns]"
      ]
     },
     "execution_count": 4,
     "metadata": {},
     "output_type": "execute_result"
    }
   ],
   "source": [
    "df_cadastro =  pd.read_excel('./dados/BD_Disjuntores.xlsx', sheet_name='Cadastro')\n",
    "df = pd.merge(df_cadastro, df_medidas, how='left', on='Equipamento', )\n",
    "df = df.dropna(subset=['LimInfIntMed.','LimSupIntMed.'], how='any')\n",
    "df.head()"
   ]
  },
  {
   "cell_type": "markdown",
   "id": "5d432d09-0d25-44d1-9f47-371fae0579d2",
   "metadata": {},
   "source": [
    "## Análise Exploratória"
   ]
  },
  {
   "cell_type": "code",
   "execution_count": 5,
   "id": "b2283d4a2f6b309",
   "metadata": {
    "ExecuteTime": {
     "end_time": "2025-03-23T18:46:34.412732Z",
     "start_time": "2025-03-23T18:46:34.386312Z"
    }
   },
   "outputs": [
    {
     "data": {
      "text/plain": [
       "(2827, 2663)"
      ]
     },
     "execution_count": 5,
     "metadata": {},
     "output_type": "execute_result"
    }
   ],
   "source": [
    "len(df_cadastro['Equipamento'].unique()), len(df_medidas['Equipamento'].unique())"
   ]
  },
  {
   "cell_type": "code",
   "execution_count": 6,
   "id": "51564ffb636e8ca7",
   "metadata": {
    "ExecuteTime": {
     "end_time": "2025-03-23T18:50:24.683542Z",
     "start_time": "2025-03-23T18:50:24.638476Z"
    }
   },
   "outputs": [
    {
     "name": "stdout",
     "output_type": "stream",
     "text": [
      "<class 'pandas.core.frame.DataFrame'>\n",
      "RangeIndex: 2827 entries, 0 to 2826\n",
      "Data columns (total 9 columns):\n",
      " #   Column           Non-Null Count  Dtype         \n",
      "---  ------           --------------  -----         \n",
      " 0   Equipamento      2827 non-null   int64         \n",
      " 1   Fabricante       2827 non-null   object        \n",
      " 2   Modelo           2810 non-null   object        \n",
      " 3   Dt.entr.serviço  2826 non-null   datetime64[ns]\n",
      " 4   Classe           2827 non-null   object        \n",
      " 5   Ano construção   2827 non-null   int64         \n",
      " 6   Código ABC       2827 non-null   object        \n",
      " 7   Tensão           2827 non-null   float64       \n",
      " 8   Tipo Instalação  2827 non-null   object        \n",
      "dtypes: datetime64[ns](1), float64(1), int64(2), object(5)\n",
      "memory usage: 198.9+ KB\n"
     ]
    }
   ],
   "source": [
    "df_cadastro.info()"
   ]
  },
  {
   "cell_type": "code",
   "execution_count": 7,
   "id": "17183b41aa607992",
   "metadata": {
    "ExecuteTime": {
     "end_time": "2025-03-23T18:51:16.640477Z",
     "start_time": "2025-03-23T18:51:16.536852Z"
    }
   },
   "outputs": [
    {
     "data": {
      "text/plain": [
       "np.True_"
      ]
     },
     "execution_count": 7,
     "metadata": {},
     "output_type": "execute_result"
    }
   ],
   "source": [
    "df2 = pd.merge(df_medidas, df_cadastro, how='left', on='Equipamento')\n",
    "df2['Fabricante'].isna().any()"
   ]
  },
  {
   "cell_type": "code",
   "execution_count": 8,
   "id": "fe9240774513747f",
   "metadata": {
    "ExecuteTime": {
     "end_time": "2025-03-23T18:51:41.888225Z",
     "start_time": "2025-03-23T18:51:41.826401Z"
    }
   },
   "outputs": [
    {
     "data": {
      "text/html": [
       "<div>\n",
       "<style scoped>\n",
       "    .dataframe tbody tr th:only-of-type {\n",
       "        vertical-align: middle;\n",
       "    }\n",
       "\n",
       "    .dataframe tbody tr th {\n",
       "        vertical-align: top;\n",
       "    }\n",
       "\n",
       "    .dataframe thead th {\n",
       "        text-align: right;\n",
       "    }\n",
       "</style>\n",
       "<table border=\"1\" class=\"dataframe\">\n",
       "  <thead>\n",
       "    <tr style=\"text-align: right;\">\n",
       "      <th></th>\n",
       "      <th>Equipamento</th>\n",
       "      <th>Ponto medição</th>\n",
       "      <th>Doc.medição</th>\n",
       "      <th>Data</th>\n",
       "      <th>Valor teórico</th>\n",
       "      <th>LimInfIntMed.</th>\n",
       "      <th>LimSupIntMed.</th>\n",
       "      <th>ValMed/PosTCont</th>\n",
       "      <th>Unid.caracter.</th>\n",
       "      <th>Cód.valorização</th>\n",
       "      <th>...</th>\n",
       "      <th>Denominação</th>\n",
       "      <th>Texto</th>\n",
       "      <th>Fabricante</th>\n",
       "      <th>Modelo</th>\n",
       "      <th>Dt.entr.serviço</th>\n",
       "      <th>Classe</th>\n",
       "      <th>Ano construção</th>\n",
       "      <th>Código ABC</th>\n",
       "      <th>Tensão</th>\n",
       "      <th>Tipo Instalação</th>\n",
       "    </tr>\n",
       "  </thead>\n",
       "  <tbody>\n",
       "    <tr>\n",
       "      <th>18</th>\n",
       "      <td>467509</td>\n",
       "      <td>467492</td>\n",
       "      <td>732683</td>\n",
       "      <td>2015-09-27</td>\n",
       "      <td>1.0</td>\n",
       "      <td>0.0</td>\n",
       "      <td>1.0</td>\n",
       "      <td>0.29</td>\n",
       "      <td>%</td>\n",
       "      <td>NaN</td>\n",
       "      <td>...</td>\n",
       "      <td>Fator de Potencia Bucha B2 Fase A</td>\n",
       "      <td>Ensaio realizado 12/05/2009</td>\n",
       "      <td>NaN</td>\n",
       "      <td>NaN</td>\n",
       "      <td>NaT</td>\n",
       "      <td>NaN</td>\n",
       "      <td>NaN</td>\n",
       "      <td>NaN</td>\n",
       "      <td>NaN</td>\n",
       "      <td>NaN</td>\n",
       "    </tr>\n",
       "  </tbody>\n",
       "</table>\n",
       "<p>1 rows × 21 columns</p>\n",
       "</div>"
      ],
      "text/plain": [
       "    Equipamento  Ponto medição  Doc.medição       Data  Valor teórico  \\\n",
       "18       467509         467492       732683 2015-09-27            1.0   \n",
       "\n",
       "    LimInfIntMed.  LimSupIntMed.  ValMed/PosTCont Unid.caracter.  \\\n",
       "18            0.0            1.0             0.29              %   \n",
       "\n",
       "    Cód.valorização  ...                        Denominação  \\\n",
       "18              NaN  ...  Fator de Potencia Bucha B2 Fase A   \n",
       "\n",
       "                          Texto Fabricante Modelo Dt.entr.serviço Classe  \\\n",
       "18  Ensaio realizado 12/05/2009        NaN    NaN             NaT    NaN   \n",
       "\n",
       "   Ano construção  Código ABC Tensão  Tipo Instalação  \n",
       "18            NaN         NaN    NaN              NaN  \n",
       "\n",
       "[1 rows x 21 columns]"
      ]
     },
     "execution_count": 8,
     "metadata": {},
     "output_type": "execute_result"
    }
   ],
   "source": [
    "df2[df2['Fabricante'].isna()].head()"
   ]
  },
  {
   "cell_type": "code",
   "execution_count": 9,
   "id": "d1bd62dcd6428f95",
   "metadata": {
    "ExecuteTime": {
     "end_time": "2025-03-23T18:55:14.596785Z",
     "start_time": "2025-03-23T18:55:14.580222Z"
    }
   },
   "outputs": [],
   "source": [
    "del df2\n",
    "del df_medidas, df_cadastro"
   ]
  },
  {
   "cell_type": "code",
   "execution_count": 38,
   "id": "43a670cbcbf37f6c",
   "metadata": {
    "ExecuteTime": {
     "end_time": "2025-03-23T18:55:59.713949Z",
     "start_time": "2025-03-23T18:55:59.432760Z"
    }
   },
   "outputs": [
    {
     "data": {
      "text/html": [
       "<div>\n",
       "<style scoped>\n",
       "    .dataframe tbody tr th:only-of-type {\n",
       "        vertical-align: middle;\n",
       "    }\n",
       "\n",
       "    .dataframe tbody tr th {\n",
       "        vertical-align: top;\n",
       "    }\n",
       "\n",
       "    .dataframe thead th {\n",
       "        text-align: right;\n",
       "    }\n",
       "</style>\n",
       "<table border=\"1\" class=\"dataframe\">\n",
       "  <thead>\n",
       "    <tr style=\"text-align: right;\">\n",
       "      <th></th>\n",
       "      <th>Tensão</th>\n",
       "      <th>Data</th>\n",
       "      <th>Valor teórico</th>\n",
       "      <th>LimInfIntMed.</th>\n",
       "      <th>LimSupIntMed.</th>\n",
       "      <th>ValMed/PosTCont</th>\n",
       "    </tr>\n",
       "  </thead>\n",
       "  <tbody>\n",
       "    <tr>\n",
       "      <th>count</th>\n",
       "      <td>143163.000000</td>\n",
       "      <td>142998</td>\n",
       "      <td>106362.000000</td>\n",
       "      <td>113232.000000</td>\n",
       "      <td>7.028700e+04</td>\n",
       "      <td>1.339640e+05</td>\n",
       "    </tr>\n",
       "    <tr>\n",
       "      <th>mean</th>\n",
       "      <td>219.044727</td>\n",
       "      <td>2021-09-23 16:52:43.009273088</td>\n",
       "      <td>2213.070112</td>\n",
       "      <td>1929.034940</td>\n",
       "      <td>1.077169e+06</td>\n",
       "      <td>5.542112e+07</td>\n",
       "    </tr>\n",
       "    <tr>\n",
       "      <th>min</th>\n",
       "      <td>6.600000</td>\n",
       "      <td>2002-03-06 00:00:00</td>\n",
       "      <td>-21.000000</td>\n",
       "      <td>-60.000000</td>\n",
       "      <td>-1.500000e+01</td>\n",
       "      <td>-6.000000e+01</td>\n",
       "    </tr>\n",
       "    <tr>\n",
       "      <th>25%</th>\n",
       "      <td>88.000000</td>\n",
       "      <td>2020-03-10 00:00:00</td>\n",
       "      <td>21.500000</td>\n",
       "      <td>0.000000</td>\n",
       "      <td>1.440000e+01</td>\n",
       "      <td>1.520000e+01</td>\n",
       "    </tr>\n",
       "    <tr>\n",
       "      <th>50%</th>\n",
       "      <td>138.000000</td>\n",
       "      <td>2022-06-20 00:00:00</td>\n",
       "      <td>47.000000</td>\n",
       "      <td>20.000000</td>\n",
       "      <td>4.000000e+01</td>\n",
       "      <td>4.000000e+01</td>\n",
       "    </tr>\n",
       "    <tr>\n",
       "      <th>75%</th>\n",
       "      <td>440.000000</td>\n",
       "      <td>2024-02-13 00:00:00</td>\n",
       "      <td>120.000000</td>\n",
       "      <td>85.000000</td>\n",
       "      <td>9.000000e+01</td>\n",
       "      <td>1.696000e+02</td>\n",
       "    </tr>\n",
       "    <tr>\n",
       "      <th>max</th>\n",
       "      <td>550.000000</td>\n",
       "      <td>2025-02-14 00:00:00</td>\n",
       "      <td>999999.000000</td>\n",
       "      <td>210000.000000</td>\n",
       "      <td>1.000000e+08</td>\n",
       "      <td>7.370000e+12</td>\n",
       "    </tr>\n",
       "    <tr>\n",
       "      <th>std</th>\n",
       "      <td>168.970734</td>\n",
       "      <td>NaN</td>\n",
       "      <td>17026.397748</td>\n",
       "      <td>13605.378764</td>\n",
       "      <td>1.032194e+07</td>\n",
       "      <td>2.013601e+10</td>\n",
       "    </tr>\n",
       "  </tbody>\n",
       "</table>\n",
       "</div>"
      ],
      "text/plain": [
       "              Tensão                           Data  Valor teórico  \\\n",
       "count  143163.000000                         142998  106362.000000   \n",
       "mean      219.044727  2021-09-23 16:52:43.009273088    2213.070112   \n",
       "min         6.600000            2002-03-06 00:00:00     -21.000000   \n",
       "25%        88.000000            2020-03-10 00:00:00      21.500000   \n",
       "50%       138.000000            2022-06-20 00:00:00      47.000000   \n",
       "75%       440.000000            2024-02-13 00:00:00     120.000000   \n",
       "max       550.000000            2025-02-14 00:00:00  999999.000000   \n",
       "std       168.970734                            NaN   17026.397748   \n",
       "\n",
       "       LimInfIntMed.  LimSupIntMed.  ValMed/PosTCont  \n",
       "count  113232.000000   7.028700e+04     1.339640e+05  \n",
       "mean     1929.034940   1.077169e+06     5.542112e+07  \n",
       "min       -60.000000  -1.500000e+01    -6.000000e+01  \n",
       "25%         0.000000   1.440000e+01     1.520000e+01  \n",
       "50%        20.000000   4.000000e+01     4.000000e+01  \n",
       "75%        85.000000   9.000000e+01     1.696000e+02  \n",
       "max    210000.000000   1.000000e+08     7.370000e+12  \n",
       "std     13605.378764   1.032194e+07     2.013601e+10  "
      ]
     },
     "execution_count": 38,
     "metadata": {},
     "output_type": "execute_result"
    }
   ],
   "source": [
    "df[['Tensão', 'Dt.entr.serviço', 'Ano construção', 'Data', 'Valor teórico', 'LimInfIntMed.', 'LimSupIntMed.', 'ValMed/PosTCont']].describe()"
   ]
  },
  {
   "cell_type": "code",
   "execution_count": 11,
   "id": "d0ccce9003d4cbf2",
   "metadata": {
    "ExecuteTime": {
     "end_time": "2025-03-23T18:56:59.296364Z",
     "start_time": "2025-03-23T18:56:59.088729Z"
    }
   },
   "outputs": [
    {
     "name": "stdout",
     "output_type": "stream",
     "text": [
      "<class 'pandas.core.frame.DataFrame'>\n",
      "RangeIndex: 143163 entries, 0 to 143162\n",
      "Data columns (total 21 columns):\n",
      " #   Column           Non-Null Count   Dtype         \n",
      "---  ------           --------------   -----         \n",
      " 0   Equipamento      143163 non-null  int64         \n",
      " 1   Fabricante       143163 non-null  object        \n",
      " 2   Modelo           143146 non-null  object        \n",
      " 3   Dt.entr.serviço  143144 non-null  datetime64[ns]\n",
      " 4   Classe           143163 non-null  object        \n",
      " 5   Ano construção   143163 non-null  int64         \n",
      " 6   Código ABC       143163 non-null  object        \n",
      " 7   Tensão           143163 non-null  float64       \n",
      " 8   Tipo Instalação  143163 non-null  object        \n",
      " 9   Ponto medição    142998 non-null  float64       \n",
      " 10  Doc.medição      142998 non-null  float64       \n",
      " 11  Data             142998 non-null  datetime64[ns]\n",
      " 12  Valor teórico    106362 non-null  float64       \n",
      " 13  LimInfIntMed.    113232 non-null  float64       \n",
      " 14  LimSupIntMed.    70287 non-null   float64       \n",
      " 15  ValMed/PosTCont  133964 non-null  float64       \n",
      " 16  Unid.caracter.   142998 non-null  object        \n",
      " 17  Cód.valorização  13737 non-null   float64       \n",
      " 18  Txt.code codif.  13737 non-null   object        \n",
      " 19  Denominação      142998 non-null  object        \n",
      " 20  Texto            99793 non-null   object        \n",
      "dtypes: datetime64[ns](2), float64(8), int64(2), object(9)\n",
      "memory usage: 22.9+ MB\n"
     ]
    }
   ],
   "source": [
    "df.info()"
   ]
  },
  {
   "cell_type": "code",
   "execution_count": 12,
   "id": "7eddb5c1bdd9d9b",
   "metadata": {
    "ExecuteTime": {
     "end_time": "2025-03-23T19:01:31.652898Z",
     "start_time": "2025-03-23T19:01:31.560882Z"
    }
   },
   "outputs": [
    {
     "data": {
      "text/html": [
       "<div>\n",
       "<style scoped>\n",
       "    .dataframe tbody tr th:only-of-type {\n",
       "        vertical-align: middle;\n",
       "    }\n",
       "\n",
       "    .dataframe tbody tr th {\n",
       "        vertical-align: top;\n",
       "    }\n",
       "\n",
       "    .dataframe thead th {\n",
       "        text-align: right;\n",
       "    }\n",
       "</style>\n",
       "<table border=\"1\" class=\"dataframe\">\n",
       "  <thead>\n",
       "    <tr style=\"text-align: right;\">\n",
       "      <th></th>\n",
       "      <th>Ponto medição</th>\n",
       "      <th>Data</th>\n",
       "    </tr>\n",
       "    <tr>\n",
       "      <th>Equipamento</th>\n",
       "      <th></th>\n",
       "      <th></th>\n",
       "    </tr>\n",
       "  </thead>\n",
       "  <tbody>\n",
       "    <tr>\n",
       "      <th>127874</th>\n",
       "      <td>35</td>\n",
       "      <td>16</td>\n",
       "    </tr>\n",
       "    <tr>\n",
       "      <th>127875</th>\n",
       "      <td>18</td>\n",
       "      <td>7</td>\n",
       "    </tr>\n",
       "    <tr>\n",
       "      <th>127876</th>\n",
       "      <td>124</td>\n",
       "      <td>11</td>\n",
       "    </tr>\n",
       "    <tr>\n",
       "      <th>127878</th>\n",
       "      <td>31</td>\n",
       "      <td>11</td>\n",
       "    </tr>\n",
       "    <tr>\n",
       "      <th>127880</th>\n",
       "      <td>42</td>\n",
       "      <td>10</td>\n",
       "    </tr>\n",
       "  </tbody>\n",
       "</table>\n",
       "</div>"
      ],
      "text/plain": [
       "             Ponto medição  Data\n",
       "Equipamento                     \n",
       "127874                  35    16\n",
       "127875                  18     7\n",
       "127876                 124    11\n",
       "127878                  31    11\n",
       "127880                  42    10"
      ]
     },
     "execution_count": 12,
     "metadata": {},
     "output_type": "execute_result"
    }
   ],
   "source": [
    "df_gpd_equipamento = df.groupby('Equipamento').agg({\n",
    "    'Ponto medição': 'nunique',\n",
    "    'Data': 'nunique',\n",
    "})\n",
    "df_gpd_equipamento.head()"
   ]
  },
  {
   "cell_type": "code",
   "execution_count": 13,
   "id": "6f2c578db6522d06",
   "metadata": {
    "ExecuteTime": {
     "end_time": "2025-03-23T19:02:27.678686Z",
     "start_time": "2025-03-23T19:02:26.767664Z"
    }
   },
   "outputs": [
    {
     "data": {
      "image/png": "[encoded data removed]",
      "text/plain": [
       "<Figure size 640x480 with 1 Axes>"
      ]
     },
     "metadata": {},
     "output_type": "display_data"
    }
   ],
   "source": [
    "plt.hist(df_gpd_equipamento['Ponto medição'])\n",
    "plt.show()"
   ]
  },
  {
   "cell_type": "code",
   "execution_count": 14,
   "id": "f0d0905099267298",
   "metadata": {
    "ExecuteTime": {
     "end_time": "2025-03-23T19:02:53.743015Z",
     "start_time": "2025-03-23T19:02:53.337235Z"
    }
   },
   "outputs": [
    {
     "data": {
      "image/png": "[encoded data removed]",
      "text/plain": [
       "<Figure size 640x480 with 1 Axes>"
      ]
     },
     "metadata": {},
     "output_type": "display_data"
    }
   ],
   "source": [
    "plt.hist(df_gpd_equipamento['Data'])\n",
    "plt.show()"
   ]
  },
  {
   "cell_type": "code",
   "execution_count": 23,
   "id": "29b31d0d9f91c54f",
   "metadata": {},
   "outputs": [
    {
     "data": {
      "text/plain": [
       "2618"
      ]
     },
     "execution_count": 23,
     "metadata": {},
     "output_type": "execute_result"
    }
   ],
   "source": [
    "df_qualificacao = df[df['Denominação'] == 'Qualificacao do Equipamento']\n",
    "len(df_qualificacao['Equipamento'].unique())"
   ]
  },
  {
   "cell_type": "code",
   "execution_count": 25,
   "id": "86b10981-fdb9-4efc-93a9-80c774adcdcc",
   "metadata": {},
   "outputs": [
    {
     "data": {
      "text/html": [
       "<div>\n",
       "<style scoped>\n",
       "    .dataframe tbody tr th:only-of-type {\n",
       "        vertical-align: middle;\n",
       "    }\n",
       "\n",
       "    .dataframe tbody tr th {\n",
       "        vertical-align: top;\n",
       "    }\n",
       "\n",
       "    .dataframe thead th {\n",
       "        text-align: right;\n",
       "    }\n",
       "</style>\n",
       "<table border=\"1\" class=\"dataframe\">\n",
       "  <thead>\n",
       "    <tr style=\"text-align: right;\">\n",
       "      <th></th>\n",
       "      <th>Data</th>\n",
       "    </tr>\n",
       "  </thead>\n",
       "  <tbody>\n",
       "    <tr>\n",
       "      <th>count</th>\n",
       "      <td>2618.000000</td>\n",
       "    </tr>\n",
       "    <tr>\n",
       "      <th>mean</th>\n",
       "      <td>2.872040</td>\n",
       "    </tr>\n",
       "    <tr>\n",
       "      <th>std</th>\n",
       "      <td>0.430111</td>\n",
       "    </tr>\n",
       "    <tr>\n",
       "      <th>min</th>\n",
       "      <td>1.000000</td>\n",
       "    </tr>\n",
       "    <tr>\n",
       "      <th>25%</th>\n",
       "      <td>3.000000</td>\n",
       "    </tr>\n",
       "    <tr>\n",
       "      <th>50%</th>\n",
       "      <td>3.000000</td>\n",
       "    </tr>\n",
       "    <tr>\n",
       "      <th>75%</th>\n",
       "      <td>3.000000</td>\n",
       "    </tr>\n",
       "    <tr>\n",
       "      <th>max</th>\n",
       "      <td>3.000000</td>\n",
       "    </tr>\n",
       "  </tbody>\n",
       "</table>\n",
       "</div>"
      ],
      "text/plain": [
       "              Data\n",
       "count  2618.000000\n",
       "mean      2.872040\n",
       "std       0.430111\n",
       "min       1.000000\n",
       "25%       3.000000\n",
       "50%       3.000000\n",
       "75%       3.000000\n",
       "max       3.000000"
      ]
     },
     "execution_count": 25,
     "metadata": {},
     "output_type": "execute_result"
    }
   ],
   "source": [
    "df_qlfc_gpd = df_qualificacao[['Equipamento', 'Data']].groupby('Equipamento').nunique()\n",
    "df_qlfc_gpd.describe()"
   ]
  },
  {
   "cell_type": "code",
   "execution_count": 26,
   "id": "171e62aa-1bc6-49a1-a7c5-b9c9e63fc372",
   "metadata": {},
   "outputs": [
    {
     "data": {
      "image/png": "[encoded data removed]",
      "text/plain": [
       "<Figure size 640x480 with 1 Axes>"
      ]
     },
     "metadata": {},
     "output_type": "display_data"
    }
   ],
   "source": [
    "plt.hist(df_qlfc_gpd['Data'])\n",
    "plt.show()"
   ]
  },
  {
   "cell_type": "code",
   "execution_count": 44,
   "id": "a425178e-b366-45c2-8247-6146e34ce0b7",
   "metadata": {},
   "outputs": [
    {
     "data": {
      "text/html": [
       "<div>\n",
       "<style scoped>\n",
       "    .dataframe tbody tr th:only-of-type {\n",
       "        vertical-align: middle;\n",
       "    }\n",
       "\n",
       "    .dataframe tbody tr th {\n",
       "        vertical-align: top;\n",
       "    }\n",
       "\n",
       "    .dataframe thead th {\n",
       "        text-align: right;\n",
       "    }\n",
       "</style>\n",
       "<table border=\"1\" class=\"dataframe\">\n",
       "  <thead>\n",
       "    <tr style=\"text-align: right;\">\n",
       "      <th></th>\n",
       "      <th>Equipamento</th>\n",
       "    </tr>\n",
       "  </thead>\n",
       "  <tbody>\n",
       "    <tr>\n",
       "      <th>count</th>\n",
       "      <td>5.000000</td>\n",
       "    </tr>\n",
       "    <tr>\n",
       "      <th>mean</th>\n",
       "      <td>703.200000</td>\n",
       "    </tr>\n",
       "    <tr>\n",
       "      <th>std</th>\n",
       "      <td>581.576048</td>\n",
       "    </tr>\n",
       "    <tr>\n",
       "      <th>min</th>\n",
       "      <td>177.000000</td>\n",
       "    </tr>\n",
       "    <tr>\n",
       "      <th>25%</th>\n",
       "      <td>206.000000</td>\n",
       "    </tr>\n",
       "    <tr>\n",
       "      <th>50%</th>\n",
       "      <td>700.000000</td>\n",
       "    </tr>\n",
       "    <tr>\n",
       "      <th>75%</th>\n",
       "      <td>828.000000</td>\n",
       "    </tr>\n",
       "    <tr>\n",
       "      <th>max</th>\n",
       "      <td>1605.000000</td>\n",
       "    </tr>\n",
       "  </tbody>\n",
       "</table>\n",
       "</div>"
      ],
      "text/plain": [
       "       Equipamento\n",
       "count     5.000000\n",
       "mean    703.200000\n",
       "std     581.576048\n",
       "min     177.000000\n",
       "25%     206.000000\n",
       "50%     700.000000\n",
       "75%     828.000000\n",
       "max    1605.000000"
      ]
     },
     "execution_count": 44,
     "metadata": {},
     "output_type": "execute_result"
    }
   ],
   "source": [
    "df_qlfc_gpd = df_qualificacao[['Equipamento', 'ValMed/PosTCont']].groupby('ValMed/PosTCont').nunique()\n",
    "df_qlfc_gpd.describe()"
   ]
  },
  {
   "cell_type": "code",
   "execution_count": 46,
   "id": "db047be1-fb5c-4219-a86f-9524e0dd8915",
   "metadata": {},
   "outputs": [
    {
     "data": {
      "image/png": "[encoded data removed]",
      "text/plain": [
       "<Figure size 640x480 with 1 Axes>"
      ]
     },
     "metadata": {},
     "output_type": "display_data"
    }
   ],
   "source": [
    "plt.bar(df_qlfc_gpd.index, df_qlfc_gpd['Equipamento'])\n",
    "plt.show()"
   ]
  },
  {
   "cell_type": "code",
   "execution_count": 15,
   "id": "95d74629f226d8a7",
   "metadata": {
    "ExecuteTime": {
     "end_time": "2025-03-23T19:05:34.939037Z",
     "start_time": "2025-03-23T19:05:34.446999Z"
    }
   },
   "outputs": [
    {
     "data": {
      "image/png": "[encoded data removed]",
      "text/plain": [
       "<Figure size 640x480 with 1 Axes>"
      ]
     },
     "metadata": {},
     "output_type": "display_data"
    }
   ],
   "source": [
    "df_gpd_data = df.groupby('Data').agg({'Equipamento': 'nunique'})\n",
    "plt.plot(df_gpd_data.index, df_gpd_data['Equipamento'])\n",
    "plt.show()"
   ]
  },
  {
   "cell_type": "code",
   "execution_count": 16,
   "id": "b63710c4ff1a4575",
   "metadata": {
    "ExecuteTime": {
     "end_time": "2025-03-23T19:06:17.911563Z",
     "start_time": "2025-03-23T19:06:17.653780Z"
    }
   },
   "outputs": [
    {
     "data": {
      "image/png": "[encoded data removed]",
      "text/plain": [
       "<Figure size 640x480 with 1 Axes>"
      ]
     },
     "metadata": {},
     "output_type": "display_data"
    }
   ],
   "source": [
    "plt.plot(df_gpd_data.index, df_gpd_data['Equipamento'].cumsum())\n",
    "plt.show()"
   ]
  },
  {
   "cell_type": "code",
   "execution_count": 17,
   "id": "9b39515d6adb6749",
   "metadata": {
    "ExecuteTime": {
     "end_time": "2025-03-23T19:09:46.374841Z",
     "start_time": "2025-03-23T19:09:46.296179Z"
    }
   },
   "outputs": [
    {
     "data": {
      "text/plain": [
       "86255"
      ]
     },
     "execution_count": 17,
     "metadata": {},
     "output_type": "execute_result"
    }
   ],
   "source": [
    "df['Texto'].str.isnumeric().sum()"
   ]
  },
  {
   "cell_type": "code",
   "execution_count": 20,
   "id": "010d02fa-41e5-4ab2-b438-442ea9ca2aac",
   "metadata": {
    "scrolled": true
   },
   "outputs": [
    {
     "data": {
      "text/plain": [
       "array(['Comp/tes Elétricos-Instrum Risco de Avar',\n",
       "       'Comp/tes Mecânicos com Risco de Avaria',\n",
       "       'Contador de Curtos do Disjuntor', 'Contador de Operação Fase A',\n",
       "       'Contador de Operação Fase B', 'Contador de Operação Fase V',\n",
       "       'Contador de Operação Trifásico',\n",
       "       'Corrente de Alimentação Motor Fase A',\n",
       "       'Corrente de Alimentação Motor Fase B',\n",
       "       'Corrente de Alimentação Motor Fase V',\n",
       "       'Qualificacao do Equipamento',\n",
       "       'Resistencia Contatos Camara 1 Fase A',\n",
       "       'Resistencia Contatos Camara 1 Fase B',\n",
       "       'Resistencia Contatos Camara 1 Fase V', 'Severidade Termografica',\n",
       "       'Tempo de Abertura Camara 1 Fase A',\n",
       "       'Tempo de Abertura Camara 1 Fase B',\n",
       "       'Tempo de Abertura Camara 1 Fase V',\n",
       "       'Tempo de Fechamento Camara 1 Fase A',\n",
       "       'Tempo de Fechamento Camara 1 Fase B',\n",
       "       'Tempo de Fechamento Camara 1 Fase V',\n",
       "       'Vazamento Óleo Amortecedor', 'Vazamento SF6',\n",
       "       'Resist Isol Aberto Cam 1-A cont inf/carc',\n",
       "       'Resist Isol Aberto Cam 1-A Entre contato',\n",
       "       'Resist Isol Aberto Cam 1-B cont inf/carc',\n",
       "       'Resist Isol Aberto Cam 1-B Entre contato',\n",
       "       'Resist Isol Aberto Cam 1-V cont inf/carc',\n",
       "       'Resist Isol Aberto Cam 1-V Entre contato',\n",
       "       'Resist Isol Fechad Cam 1-A cont sup/carc',\n",
       "       'Resist Isol Fechad Cam 1-B cont sup/carc',\n",
       "       'Resist Isol Fechad Cam 1-V cont sup/carc',\n",
       "       'Corrente de Alimentação Motor Trifásico',\n",
       "       'Resist Isol Aberto Cam 1-A cont sup/carc',\n",
       "       'Resist Isol Aberto Cam 1-B cont sup/carc',\n",
       "       'Resist Isol Aberto Cam 1-V cont sup/carc',\n",
       "       'Resist Isol Fechado Cam 1 Fase A/Fase B',\n",
       "       'Resist Isol Fechado Cam 1 Fase A/Fase V',\n",
       "       'Resist Isol Fechado Cam 1 Fase B/Fase V',\n",
       "       'Vazamento Óleo Isolante', 'Pressão do Meio de Extinção',\n",
       "       'Capacitancia Capacitor Camara 1 Fase A',\n",
       "       'Capacitancia Capacitor Camara 1 Fase B',\n",
       "       'Capacitancia Capacitor Camara 1 Fase V',\n",
       "       'Capacitancia Capacitor Camara 2 Fase A',\n",
       "       'Capacitancia Capacitor Camara 2 Fase B',\n",
       "       'Capacitancia Capacitor Camara 2 Fase V',\n",
       "       'Capacitancia Capacitor Camara 3 Fase A',\n",
       "       'Capacitancia Capacitor Camara 3 Fase B',\n",
       "       'Capacitancia Capacitor Camara 3 Fase V',\n",
       "       'Capacitancia Capacitor Camara 4 Fase A',\n",
       "       'Capacitancia Capacitor Camara 4 Fase B',\n",
       "       'Capacitancia Capacitor Camara 4 Fase V',\n",
       "       'Capacitancia Capacitor Camara 5 Fase A',\n",
       "       'Capacitancia Capacitor Camara 5 Fase B',\n",
       "       'Capacitancia Capacitor Camara 5 Fase V',\n",
       "       'Capacitancia Capacitor Camara 6 Fase A',\n",
       "       'Capacitancia Capacitor Camara 6 Fase B',\n",
       "       'Capacitancia Capacitor Camara 6 Fase V',\n",
       "       'Fator de Potencia Capacitor Cam 1 Fase A',\n",
       "       'Fator de Potencia Capacitor Cam 1 Fase B',\n",
       "       'Fator de Potencia Capacitor Cam 1 Fase V',\n",
       "       'Fator de Potencia Capacitor Cam 2 Fase A',\n",
       "       'Fator de Potencia Capacitor Cam 2 Fase B',\n",
       "       'Fator de Potencia Capacitor Cam 2 Fase V',\n",
       "       'Fator de Potencia Capacitor Cam 3 Fase A',\n",
       "       'Fator de Potencia Capacitor Cam 3 Fase B',\n",
       "       'Fator de Potencia Capacitor Cam 3 Fase V',\n",
       "       'Fator de Potencia Capacitor Cam 4 Fase A',\n",
       "       'Fator de Potencia Capacitor Cam 4 Fase B',\n",
       "       'Fator de Potencia Capacitor Cam 4 Fase V',\n",
       "       'Fator de Potencia Capacitor Cam 5 Fase A',\n",
       "       'Fator de Potencia Capacitor Cam 5 Fase B',\n",
       "       'Fator de Potencia Capacitor Cam 5 Fase V',\n",
       "       'Fator de Potencia Capacitor Cam 6 Fase A',\n",
       "       'Fator de Potencia Capacitor Cam 6 Fase B',\n",
       "       'Fator de Potencia Capacitor Cam 6 Fase V',\n",
       "       'Pressão do Meio de Acionamento',\n",
       "       'Pressão do Meio de Extinção Fase A',\n",
       "       'Pressão do Meio de Extinção Fase B',\n",
       "       'Pressão do Meio de Extinção Fase V',\n",
       "       'Pressão do Sistema de Acionamento Fase A',\n",
       "       'Pressão do Sistema de Acionamento Fase B',\n",
       "       'Pressão do Sistema de Acionamento Fase V',\n",
       "       'Resistencia Contatos Camara 2 Fase A',\n",
       "       'Resistencia Contatos Camara 2 Fase B',\n",
       "       'Resistencia Contatos Camara 2 Fase V',\n",
       "       'Resistencia Contatos Camara 3 Fase A',\n",
       "       'Resistencia Contatos Camara 3 Fase B',\n",
       "       'Resistencia Contatos Camara 3 Fase V',\n",
       "       'Resistencia Contatos Camara 4 Fase A',\n",
       "       'Resistencia Contatos Camara 4 Fase B',\n",
       "       'Resistencia Contatos Camara 4 Fase V',\n",
       "       'Resistencia Contatos Camara 5 Fase A',\n",
       "       'Resistencia Contatos Camara 5 Fase B',\n",
       "       'Resistencia Contatos Camara 5 Fase V',\n",
       "       'Resistencia Contatos Camara 6 Fase A',\n",
       "       'Resistencia Contatos Camara 6 Fase B',\n",
       "       'Resistencia Contatos Camara 6 Fase V',\n",
       "       'Resistencia de Contato Modulo 1 Fase A',\n",
       "       'Resistencia de Contato Modulo 1 Fase B',\n",
       "       'Resistencia de Contato Modulo 1 Fase V',\n",
       "       'Resistencia de Contato Modulo 2 Fase A',\n",
       "       'Resistencia de Contato Modulo 2 Fase B',\n",
       "       'Resistencia de Contato Modulo 2 Fase V',\n",
       "       'Resistencia de Contato Modulo 3 Fase A',\n",
       "       'Resistencia de Contato Modulo 3 Fase B',\n",
       "       'Resistencia de Contato Modulo 3 Fase V',\n",
       "       'Resistencia de Contato Total Fase A',\n",
       "       'Resistencia de Contato Total Fase B',\n",
       "       'Resistencia de Contato Total Fase V',\n",
       "       'Tempo Abertura Total Fase A', 'Tempo Abertura Total Fase B',\n",
       "       'Tempo Abertura Total Fase V', 'Tempo de Abertura Camara 2 Fase A',\n",
       "       'Tempo de Abertura Camara 2 Fase B',\n",
       "       'Tempo de Abertura Camara 2 Fase V',\n",
       "       'Tempo de Abertura Camara 3 Fase A',\n",
       "       'Tempo de Abertura Camara 3 Fase B',\n",
       "       'Tempo de Abertura Camara 3 Fase V',\n",
       "       'Tempo de Abertura Camara 4 Fase A',\n",
       "       'Tempo de Abertura Camara 4 Fase B',\n",
       "       'Tempo de Abertura Camara 4 Fase V',\n",
       "       'Tempo de Abertura Camara 5 Fase A',\n",
       "       'Tempo de Abertura Camara 5 Fase B',\n",
       "       'Tempo de Abertura Camara 5 Fase V',\n",
       "       'Tempo de Abertura Camara 6 Fase A',\n",
       "       'Tempo de Abertura Camara 6 Fase B',\n",
       "       'Tempo de Abertura Camara 6 Fase V',\n",
       "       'Tempo de Fechamento Camara 2 Fase A',\n",
       "       'Tempo de Fechamento Camara 2 Fase B',\n",
       "       'Tempo de Fechamento Camara 2 Fase V',\n",
       "       'Tempo de Fechamento Camara 3 Fase A',\n",
       "       'Tempo de Fechamento Camara 3 Fase B',\n",
       "       'Tempo de Fechamento Camara 3 Fase V',\n",
       "       'Tempo de Fechamento Camara 4 Fase A',\n",
       "       'Tempo de Fechamento Camara 4 Fase B',\n",
       "       'Tempo de Fechamento Camara 4 Fase V',\n",
       "       'Tempo de Fechamento Camara 5 Fase A',\n",
       "       'Tempo de Fechamento Camara 5 Fase B',\n",
       "       'Tempo de Fechamento Camara 5 Fase V',\n",
       "       'Tempo de Fechamento Camara 6 Fase A',\n",
       "       'Tempo de Fechamento Camara 6 Fase B',\n",
       "       'Tempo de Fechamento Camara 6 Fase V',\n",
       "       'Tempo Fechamento Total Fase A', 'Tempo Fechamento Total Fase B',\n",
       "       'Tempo Fechamento Total Fase V', 'Vazamento Ar Sistema Pneumático',\n",
       "       'Fator de Potencia Capacitor CAM 1 Fase A',\n",
       "       'Fator de Potencia Capacitor CAM 1 Fase B',\n",
       "       'Fator de Potencia Capacitor CAM 1 Fase V',\n",
       "       'Fator de Potencia Capacitor CAM 2 Fase A',\n",
       "       'Fator de Potencia Capacitor CAM 2 Fase B',\n",
       "       'Fator de Potencia Capacitor CAM 2 Fase V',\n",
       "       'Tempo Inser Resist Fecham CAM 1 Fase A',\n",
       "       'Tempo Inser Resist Fecham CAM 1 Fase B',\n",
       "       'Tempo Inser Resist Fecham CAM 1 Fase V',\n",
       "       'Tempo Inser Resist Fecham CAM 2 Fase A',\n",
       "       'Tempo Inser Resist Fecham CAM 2 Fase B',\n",
       "       'Tempo Inser Resist Fecham CAM 2 Fase V',\n",
       "       'Tempo Fechament Resistencia CAM 1 Fase A',\n",
       "       'Tempo Fechament Resistencia CAM 1 Fase B',\n",
       "       'Tempo Fechament Resistencia CAM 1 Fase V',\n",
       "       'Tempo Fechament Resistencia CAM 2 Fase A',\n",
       "       'Tempo Fechament Resistencia CAM 2 Fase B',\n",
       "       'Tempo Fechament Resistencia CAM 2 Fase V',\n",
       "       'Tempo Fechament Resistencia CAM 3 Fase A',\n",
       "       'Tempo Fechament Resistencia CAM 3 Fase B',\n",
       "       'Tempo Fechament Resistencia CAM 3 Fase V',\n",
       "       'Tempo Fechament Resistencia CAM 4 Fase A',\n",
       "       'Tempo Fechament Resistencia CAM 4 Fase B',\n",
       "       'Tempo Fechament Resistencia CAM 4 Fase V',\n",
       "       'Tempo Fechament Resistencia CAM 5 Fase A',\n",
       "       'Tempo Fechament Resistencia CAM 5 Fase B',\n",
       "       'Tempo Fechament Resistencia CAM 5 Fase V',\n",
       "       'Tempo Fechament Resistencia CAM 6 Fase A',\n",
       "       'Tempo Fechament Resistencia CAM 6 Fase B',\n",
       "       'Tempo Fechament Resistencia CAM 6 Fase V', nan,\n",
       "       'Tempo Pre-Ins Resist Fecham CAM 1 Fase A',\n",
       "       'Tempo Pre-Ins Resist Fecham CAM 1 Fase B',\n",
       "       'Tempo Pre-Ins Resist Fecham CAM 1 Fase V',\n",
       "       'Tempo Pre-Ins Resist Fecham CAM 2 Fase A',\n",
       "       'Tempo Pre-Ins Resist Fecham CAM 2 Fase B',\n",
       "       'Tempo Pre-Ins Resist Fecham CAM 2 Fase V',\n",
       "       'SF6 Particulas SO2 em SF6 Fase A',\n",
       "       'SF6 Particulas SO2 em SF6 Fase B',\n",
       "       'SF6 Particulas SO2 em SF6 Fase V', 'SF6 Pureza Fase A',\n",
       "       'SF6 Pureza Fase B', 'SF6 Pureza Fase V', 'Vazamento SF6 Fase A',\n",
       "       'Vazamento SF6 Fase B', 'Vazamento SF6 Fase V',\n",
       "       'Vazamento Óleo Sist Hidráulico',\n",
       "       'Resist Isol Aberto CAM 1-A cont inf/carc',\n",
       "       'Resist Isol Aberto CAM 1-A cont sup/carc',\n",
       "       'Resist Isol Aberto CAM 1-A Entre contato',\n",
       "       'Resist Isol Aberto CAM 1-B cont inf/carc',\n",
       "       'Resist Isol Aberto CAM 1-B cont sup/carc',\n",
       "       'Resist Isol Aberto CAM 1-B Entre contato',\n",
       "       'Resist Isol Aberto CAM 1-V cont inf/carc',\n",
       "       'Resist Isol Aberto CAM 1-V cont sup/carc',\n",
       "       'Resist Isol Aberto CAM 1-V Entre contato',\n",
       "       'Resist Isol Fechad CAM 1-A cont sup/carc',\n",
       "       'Resist Isol Fechad CAM 1-B cont sup/carc',\n",
       "       'Resist Isol Fechad CAM 1-V cont sup/carc',\n",
       "       'Resist Isol Fechado CAM 1 Fase A/Fase B',\n",
       "       'Resist Isol Fechado CAM 1 Fase A/Fase V',\n",
       "       'Resist Isol Fechado CAM 1 Fase B/Fase V',\n",
       "       'SF6 Particulas SO2 em SF6', 'SF6 Pureza',\n",
       "       'Contador de Operação da Moto Bomba', 'Parada Moto Bomba',\n",
       "       'Partida Moto Bomba', 'Pré-carga N2',\n",
       "       'Rigidez Dielétrica do óleo Carter Fase A',\n",
       "       'Rigidez Dielétrica do óleo Carter Fase B',\n",
       "       'Rigidez Dielétrica do óleo Carter Fase V',\n",
       "       'Rigidez Dieletrica do Oleo Hidraulico',\n",
       "       'Rigidez Dieletrica Oleo CAM 1 Fase A',\n",
       "       'Rigidez Dieletrica Oleo CAM 1 Fase B',\n",
       "       'Rigidez Dieletrica Oleo CAM 1 Fase V',\n",
       "       'Rigidez Dieletrica Oleo CAM 2 Fase A',\n",
       "       'Rigidez Dieletrica Oleo CAM 2 Fase B',\n",
       "       'Rigidez Dieletrica Oleo CAM 2 Fase V',\n",
       "       'Rigidez Dieletrica Oleo Coluna 1 Fase A',\n",
       "       'Rigidez Dieletrica Oleo Coluna 1 Fase B',\n",
       "       'Rigidez Dieletrica Oleo Coluna 1 Fase V',\n",
       "       'Resist Isol Aberto CAM 1-A contat/carter',\n",
       "       'Resist Isol Aberto CAM 1-B contat/carter',\n",
       "       'Resist Isol Aberto CAM 1-V contat/carter',\n",
       "       'Resist Isol Aberto CAM 2-A contat/carter',\n",
       "       'Resist Isol Aberto CAM 2-B contat/carter',\n",
       "       'Resist Isol Aberto CAM 2-V contat/carter',\n",
       "       'Resist Isol Coluna Fase A carter/carc',\n",
       "       'Resist Isol Coluna Fase B carter/carc',\n",
       "       'Resist Isol Coluna Fase V carter/carc',\n",
       "       'Corrente de Alimentação Motor', 'SF6 Umidade Fase A',\n",
       "       'SF6 Umidade Fase B', 'SF6 Umidade Fase V', 'SF6 Umidade',\n",
       "       'Rigidez Dieletrica do Oleo Camara 1FaseA',\n",
       "       'Rigidez Dieletrica do Oleo Camara 1FaseB',\n",
       "       'Rigidez Dieletrica do Oleo Camara 1FaseV',\n",
       "       'Resistencia Pre-Inserção Camara 1 Fase A',\n",
       "       'Resistencia Pre-Inserção Camara 1 Fase B',\n",
       "       'Resistencia Pre-Inserção Camara 1 Fase V',\n",
       "       'Resistencia Pre-Inserção Camara 2 Fase A',\n",
       "       'Resistencia Pre-Inserção Camara 2 Fase B',\n",
       "       'Resistencia Pre-Inserção Camara 2 Fase V',\n",
       "       'Resistencia Pre-Inserção Camara 3 Fase A',\n",
       "       'Resistencia Pre-Inserção Camara 3 Fase B',\n",
       "       'Resistencia Pre-Inserção Camara 3 Fase V',\n",
       "       'Resistencia Pre-Inserção Camara 4 Fase A',\n",
       "       'Resistencia Pre-Inserção Camara 4 Fase B',\n",
       "       'Resistencia Pre-Inserção Camara 4 Fase V',\n",
       "       'Resistencia Pre-Inserção Camara 5 Fase A',\n",
       "       'Resistencia Pre-Inserção Camara 5 Fase B',\n",
       "       'Resistencia Pre-Inserção Camara 5 Fase V',\n",
       "       'Resistencia Pre-Inserção Camara 6 Fase A',\n",
       "       'Resistencia Pre-Inserção Camara 6 Fase B',\n",
       "       'Resistencia Pre-Inserção Camara 6 Fase V',\n",
       "       'Tempo Inserção Resistencia Cam 1 Fase A',\n",
       "       'Tempo Inserção Resistencia Cam 1 Fase B',\n",
       "       'Tempo Inserção Resistencia Cam 1 Fase V',\n",
       "       'Tempo Inserção Resistencia Cam 2 Fase A',\n",
       "       'Tempo Inserção Resistencia Cam 2 Fase B',\n",
       "       'Tempo Inserção Resistencia Cam 2 Fase V',\n",
       "       'Tempo Inserção Resistencia Cam 3 Fase A',\n",
       "       'Tempo Inserção Resistencia Cam 3 Fase B',\n",
       "       'Tempo Inserção Resistencia Cam 3 Fase V',\n",
       "       'Tempo Inserção Resistencia Cam 4 Fase A',\n",
       "       'Tempo Inserção Resistencia Cam 4 Fase B',\n",
       "       'Tempo Inserção Resistencia Cam 4 Fase V',\n",
       "       'Tempo Inserção Resistencia Cam 5 Fase A',\n",
       "       'Tempo Inserção Resistencia Cam 5 Fase B',\n",
       "       'Tempo Inserção Resistencia Cam 5 Fase V',\n",
       "       'Tempo Inserção Resistencia Cam 6 Fase A',\n",
       "       'Tempo Inserção Resistencia Cam 6 Fase B',\n",
       "       'Tempo Inserção Resistencia Cam 6 Fase V',\n",
       "       'Rigidez Dieletrica do Oleo da Coluna F A',\n",
       "       'Rigidez Dieletrica do Oleo da Coluna F B',\n",
       "       'Rigidez Dieletrica do Oleo da Coluna F V',\n",
       "       'Rigidez Dieletrica do Oleo Coluna 1 F A',\n",
       "       'Rigidez Dieletrica do Oleo Coluna 1 F B',\n",
       "       'Rigidez Dieletrica do Oleo Coluna 1 F V',\n",
       "       'Rigidez Dieletrica do Oleo Camara 2FaseA',\n",
       "       'Rigidez Dieletrica do Oleo Camara 2FaseB',\n",
       "       'Rigidez Dieletrica do Oleo Camara 2FaseV',\n",
       "       'Fator de Potencia Capacitor CAM 3 Fase A',\n",
       "       'Fator de Potencia Capacitor CAM 3 Fase B',\n",
       "       'Fator de Potencia Capacitor CAM 3 Fase V',\n",
       "       'Fator de Potencia Capacitor CAM 4 Fase A',\n",
       "       'Fator de Potencia Capacitor CAM 4 Fase B',\n",
       "       'Fator de Potencia Capacitor CAM 4 Fase V',\n",
       "       'Rigidez Dieletrica do Oleo da ColunaFasA',\n",
       "       'Rigidez Dieletrica do Oleo da ColunaFasB',\n",
       "       'Rigidez Dieletrica do Oleo da ColunaFasV',\n",
       "       'Resistencia Contatos Total Fase A',\n",
       "       'Resistencia Contatos Total Fase B',\n",
       "       'Resistencia Contatos Total Fase V', 'RESISTENCIA  CONTATOS',\n",
       "       'Resistencia Contatos Fase V', 'Resistencia Contatos Fase A',\n",
       "       'Resistencia Contatos Fase B', 'Cont de Operação da Moto Bomba',\n",
       "       'Tempo de reposição do Moto-Bomba',\n",
       "       'Corrente de Alimentação Motor Moto Bomba',\n",
       "       'Pressão de Nitrogênio N2', 'Tempo de Energização Bobina Abertura',\n",
       "       'Tempo de Energização Bobina Fechamento',\n",
       "       'Cont Oper Motor Bomba Hidráulica Fase A',\n",
       "       'Cont Oper Motor Bomba Hidráulica Fase B',\n",
       "       'Cont Oper Motor Bomba Hidráulica Fase V',\n",
       "       'Contador de Manobras do Disjuntor',\n",
       "       'Pressão do Gás SF6 Módulo 1 Fase A',\n",
       "       'Pressão do Gás SF6 Módulo 1 Fase B',\n",
       "       'Pressão do Gás SF6 Módulo 1 Fase V',\n",
       "       'Pressão do Gás SF6 Módulo 2 Fase A',\n",
       "       'Pressão do Gás SF6 Módulo 2 Fase B',\n",
       "       'Pressão do Gás SF6 Módulo 2 Fase V',\n",
       "       'Pressão Sistema Hidráulico Fase A',\n",
       "       'Pressão Sistema Hidráulico Fase B',\n",
       "       'Pressão Sistema Hidráulico Fase V',\n",
       "       'Fator de Potencia Bucha B1 Fase A',\n",
       "       'Fator de Potencia Bucha B1 Fase B',\n",
       "       'Fator de Potencia Bucha B1 Fase V',\n",
       "       'Fator de Potencia Bucha B2 Fase A',\n",
       "       'Fator de Potencia Bucha B2 Fase B',\n",
       "       'Fator de Potencia Bucha B2 Fase V',\n",
       "       'Rigidez Dieletrica do Oleo Camara 1 F A',\n",
       "       'Rigidez Dieletrica do Oleo Camara 1 F B',\n",
       "       'Rigidez Dieletrica do Oleo Camara 1 F V',\n",
       "       'Rigidez Dieletrica do Oleo Camara 1 Fase',\n",
       "       'Tempo Pre-Inser Resist Fech CAM 1 F A',\n",
       "       'Tempo Pre-Inser Resist Fech CAM 1 F B',\n",
       "       'Tempo Pre-Inser Resist Fech CAM 1 F V',\n",
       "       'Tempo Pre-Inser Resist Fech CAM 2 F A',\n",
       "       'Tempo Pre-Inser Resist Fech CAM 2 F B',\n",
       "       'Tempo Pre-Inser Resist Fech CAM 2 F V', 'pré-carga N2',\n",
       "       'Bloqueio de Ligar', 'Tempo Recarga Mola',\n",
       "       'Fator de Potencia 10 kV Camara 1 Fase A',\n",
       "       'Fator de Potencia 10 kV Camara 1 Fase B',\n",
       "       'Fator de Potencia 10 kV Camara 1 Fase V',\n",
       "       'Fator de Potencia 10 kV Camara 2 Fase A',\n",
       "       'Fator de Potencia 10 kV Camara 2 Fase B',\n",
       "       'Fator de Potencia 10 kV Camara 2 Fase V',\n",
       "       'Rigidez Dieletrica do Oleo Carter Fase A',\n",
       "       'Rigidez Dieletrica do Oleo Carter Fase B',\n",
       "       'Rigidez Dieletrica do Oleo Carter Fase V'], dtype=object)"
      ]
     },
     "execution_count": 20,
     "metadata": {},
     "output_type": "execute_result"
    }
   ],
   "source": [
    "df['Denominação'].unique()"
   ]
  },
  {
   "cell_type": "code",
   "execution_count": 39,
   "id": "ae8c17d3-365d-4147-9382-2fc7ba7ef179",
   "metadata": {},
   "outputs": [
    {
     "data": {
      "text/plain": [
       "354"
      ]
     },
     "execution_count": 39,
     "metadata": {},
     "output_type": "execute_result"
    }
   ],
   "source": [
    "len(df['Denominação'].unique())"
   ]
  },
  {
   "cell_type": "code",
   "execution_count": 27,
   "id": "bd553701-7ed6-4915-8796-d73379428b63",
   "metadata": {},
   "outputs": [
    {
     "data": {
      "text/plain": [
       "array(['5', 'Fechamento mensal ref. 01/2025',\n",
       "       'Fechamento mensal referente 12/24', ...,\n",
       "       'N1- 193342 - 11.06.2012', 'N1- 552751 - 14.09.2017',\n",
       "       'PREENCHER PTOS OBRIG'], shape=(1030,), dtype=object)"
      ]
     },
     "execution_count": 27,
     "metadata": {},
     "output_type": "execute_result"
    }
   ],
   "source": [
    "df['Texto'].unique()"
   ]
  },
  {
   "cell_type": "code",
   "execution_count": 35,
   "id": "cfd9e57a-91b8-4721-a420-53a4b611998c",
   "metadata": {},
   "outputs": [
    {
     "data": {
      "image/png": "[encoded data removed]",
      "text/plain": [
       "<Figure size 640x480 with 1 Axes>"
      ]
     },
     "metadata": {},
     "output_type": "display_data"
    }
   ],
   "source": [
    "df_den_gpd = df[['Denominação', 'Doc.medição']].groupby('Denominação').nunique().sort_values('Doc.medição')\n",
    "plt.bar(df_den_gpd.index[:10], df_den_gpd.iloc[:10, 0])\n",
    "plt.xticks(rotation=90)\n",
    "plt.show()"
   ]
  },
  {
   "cell_type": "code",
   "execution_count": 37,
   "id": "6436f838-6eb7-4096-bdca-260a8b3810ea",
   "metadata": {},
   "outputs": [
    {
     "data": {
      "image/png": "[encoded data removed]",
      "text/plain": [
       "<Figure size 640x480 with 1 Axes>"
      ]
     },
     "metadata": {},
     "output_type": "display_data"
    }
   ],
   "source": [
    "plt.bar(df_den_gpd.index[-10:], df_den_gpd.iloc[-10:, 0])\n",
    "plt.xticks(rotation=90)\n",
    "plt.show()"
   ]
  },
  {
   "cell_type": "code",
   "execution_count": 41,
   "id": "7881b9a1-4694-402f-8bf8-f31ac80eaf04",
   "metadata": {},
   "outputs": [
    {
     "data": {
      "image/png": "[encoded data removed]",
      "text/plain": [
       "<Figure size 640x480 with 1 Axes>"
      ]
     },
     "metadata": {},
     "output_type": "display_data"
    }
   ],
   "source": [
    "df_crit_gpd = df[['Código ABC', 'Equipamento']].groupby('Código ABC').nunique().sort_values('Equipamento')\n",
    "plt.bar(df_crit_gpd.index, df_crit_gpd['Equipamento'])\n",
    "plt.xticks(rotation=90)\n",
    "plt.show()"
   ]
  },
  {
   "cell_type": "code",
   "execution_count": null,
   "id": "52245a39-b3d2-42a3-9388-06cf7a362784",
   "metadata": {},
   "outputs": [],
   "source": []
  }
 ],
 "metadata": {
  "kernelspec": {
   "display_name": "Python 3 (ipykernel)",
   "language": "python",
   "name": "python3"
  },
  "language_info": {
   "codemirror_mode": {
    "name": "ipython",
    "version": 3
   },
   "file_extension": ".py",
   "mimetype": "text/x-python",
   "name": "python",
   "nbconvert_exporter": "python",
   "pygments_lexer": "ipython3",
   "version": "3.10.6"
  }
 },
 "nbformat": 4,
 "nbformat_minor": 5
}
