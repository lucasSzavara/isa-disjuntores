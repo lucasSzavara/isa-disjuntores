{
 "cells": [
  {
   "cell_type": "code",
   "id": "initial_id",
   "metadata": {
    "collapsed": true,
    "ExecuteTime": {
     "end_time": "2025-03-23T18:41:23.947135Z",
     "start_time": "2025-03-23T18:41:09.377875Z"
    }
   },
   "source": [
    "import pandas as pd\n",
    "import numpy as np\n",
    "import matplotlib.pyplot as plt"
   ],
   "outputs": [],
   "execution_count": 1
  },
  {
   "metadata": {
    "ExecuteTime": {
     "end_time": "2025-03-23T18:43:17.009827Z",
     "start_time": "2025-03-23T18:42:20.007990Z"
    }
   },
   "cell_type": "code",
   "source": "df_medidas = pd.read_excel('./dados/BD_Disjuntores.xlsx', sheet_name='Documentos de Medida')",
   "id": "23ed95e69bc21d47",
   "outputs": [],
   "execution_count": 2
  },
  {
   "metadata": {
    "ExecuteTime": {
     "end_time": "2025-03-23T18:44:17.206484Z",
     "start_time": "2025-03-23T18:44:10.470231Z"
    }
   },
   "cell_type": "code",
   "source": [
    "df_cadastro =  pd.read_excel('./dados/BD_Disjuntores.xlsx', sheet_name='Cadastro')\n",
    "df = pd.merge(df_cadastro, df_medidas, how='left', on='Equipamento', )\n",
    "df.head()"
   ],
   "id": "4a8d61a75a6c7588",
   "outputs": [
    {
     "data": {
      "text/plain": [
       "   Equipamento        Fabricante  Modelo Dt.entr.serviço      Classe  \\\n",
       "0       270715  GENERAL ELECTRIC  GL314P      2019-09-07  S_DISJ_SF6   \n",
       "1       270715  GENERAL ELECTRIC  GL314P      2019-09-07  S_DISJ_SF6   \n",
       "2       270715  GENERAL ELECTRIC  GL314P      2019-09-07  S_DISJ_SF6   \n",
       "3       270715  GENERAL ELECTRIC  GL314P      2019-09-07  S_DISJ_SF6   \n",
       "4       270715  GENERAL ELECTRIC  GL314P      2019-09-07  S_DISJ_SF6   \n",
       "\n",
       "   Ano construção Código ABC  Tensão Tipo Instalação  Ponto medição  ...  \\\n",
       "0            2017          C   230.0    Bay de Linha       467488.0  ...   \n",
       "1            2017          C   230.0    Bay de Linha      9758414.0  ...   \n",
       "2            2017          C   230.0    Bay de Linha      9758414.0  ...   \n",
       "3            2017          C   230.0    Bay de Linha      9758413.0  ...   \n",
       "4            2017          C   230.0    Bay de Linha      9758413.0  ...   \n",
       "\n",
       "        Data Valor teórico  LimInfIntMed.  LimSupIntMed.  ValMed/PosTCont  \\\n",
       "0 2015-09-27           NaN            0.0            NaN              0.0   \n",
       "1 2024-03-08           NaN            0.0            NaN              NaN   \n",
       "2 2021-11-24           NaN            0.0            NaN              NaN   \n",
       "3 2024-03-08           NaN            0.0            NaN              NaN   \n",
       "4 2021-11-24           NaN            0.0            NaN              NaN   \n",
       "\n",
       "   Unid.caracter. Cód.valorização  Txt.code codif.  \\\n",
       "0              UN             2.0              Não   \n",
       "1              UN             2.0              Não   \n",
       "2              UN             2.0              Não   \n",
       "3              UN             2.0              Não   \n",
       "4              UN             2.0              Não   \n",
       "\n",
       "                                Denominação Texto  \n",
       "0  Comp/tes Elétricos-Instrum Risco de Avar     5  \n",
       "1  Comp/tes Elétricos-Instrum Risco de Avar     5  \n",
       "2  Comp/tes Elétricos-Instrum Risco de Avar     5  \n",
       "3    Comp/tes Mecânicos com Risco de Avaria     5  \n",
       "4    Comp/tes Mecânicos com Risco de Avaria     5  \n",
       "\n",
       "[5 rows x 21 columns]"
      ],
      "text/html": [
       "<div>\n",
       "<style scoped>\n",
       "    .dataframe tbody tr th:only-of-type {\n",
       "        vertical-align: middle;\n",
       "    }\n",
       "\n",
       "    .dataframe tbody tr th {\n",
       "        vertical-align: top;\n",
       "    }\n",
       "\n",
       "    .dataframe thead th {\n",
       "        text-align: right;\n",
       "    }\n",
       "</style>\n",
       "<table border=\"1\" class=\"dataframe\">\n",
       "  <thead>\n",
       "    <tr style=\"text-align: right;\">\n",
       "      <th></th>\n",
       "      <th>Equipamento</th>\n",
       "      <th>Fabricante</th>\n",
       "      <th>Modelo</th>\n",
       "      <th>Dt.entr.serviço</th>\n",
       "      <th>Classe</th>\n",
       "      <th>Ano construção</th>\n",
       "      <th>Código ABC</th>\n",
       "      <th>Tensão</th>\n",
       "      <th>Tipo Instalação</th>\n",
       "      <th>Ponto medição</th>\n",
       "      <th>...</th>\n",
       "      <th>Data</th>\n",
       "      <th>Valor teórico</th>\n",
       "      <th>LimInfIntMed.</th>\n",
       "      <th>LimSupIntMed.</th>\n",
       "      <th>ValMed/PosTCont</th>\n",
       "      <th>Unid.caracter.</th>\n",
       "      <th>Cód.valorização</th>\n",
       "      <th>Txt.code codif.</th>\n",
       "      <th>Denominação</th>\n",
       "      <th>Texto</th>\n",
       "    </tr>\n",
       "  </thead>\n",
       "  <tbody>\n",
       "    <tr>\n",
       "      <th>0</th>\n",
       "      <td>270715</td>\n",
       "      <td>GENERAL ELECTRIC</td>\n",
       "      <td>GL314P</td>\n",
       "      <td>2019-09-07</td>\n",
       "      <td>S_DISJ_SF6</td>\n",
       "      <td>2017</td>\n",
       "      <td>C</td>\n",
       "      <td>230.0</td>\n",
       "      <td>Bay de Linha</td>\n",
       "      <td>467488.0</td>\n",
       "      <td>...</td>\n",
       "      <td>2015-09-27</td>\n",
       "      <td>NaN</td>\n",
       "      <td>0.0</td>\n",
       "      <td>NaN</td>\n",
       "      <td>0.0</td>\n",
       "      <td>UN</td>\n",
       "      <td>2.0</td>\n",
       "      <td>Não</td>\n",
       "      <td>Comp/tes Elétricos-Instrum Risco de Avar</td>\n",
       "      <td>5</td>\n",
       "    </tr>\n",
       "    <tr>\n",
       "      <th>1</th>\n",
       "      <td>270715</td>\n",
       "      <td>GENERAL ELECTRIC</td>\n",
       "      <td>GL314P</td>\n",
       "      <td>2019-09-07</td>\n",
       "      <td>S_DISJ_SF6</td>\n",
       "      <td>2017</td>\n",
       "      <td>C</td>\n",
       "      <td>230.0</td>\n",
       "      <td>Bay de Linha</td>\n",
       "      <td>9758414.0</td>\n",
       "      <td>...</td>\n",
       "      <td>2024-03-08</td>\n",
       "      <td>NaN</td>\n",
       "      <td>0.0</td>\n",
       "      <td>NaN</td>\n",
       "      <td>NaN</td>\n",
       "      <td>UN</td>\n",
       "      <td>2.0</td>\n",
       "      <td>Não</td>\n",
       "      <td>Comp/tes Elétricos-Instrum Risco de Avar</td>\n",
       "      <td>5</td>\n",
       "    </tr>\n",
       "    <tr>\n",
       "      <th>2</th>\n",
       "      <td>270715</td>\n",
       "      <td>GENERAL ELECTRIC</td>\n",
       "      <td>GL314P</td>\n",
       "      <td>2019-09-07</td>\n",
       "      <td>S_DISJ_SF6</td>\n",
       "      <td>2017</td>\n",
       "      <td>C</td>\n",
       "      <td>230.0</td>\n",
       "      <td>Bay de Linha</td>\n",
       "      <td>9758414.0</td>\n",
       "      <td>...</td>\n",
       "      <td>2021-11-24</td>\n",
       "      <td>NaN</td>\n",
       "      <td>0.0</td>\n",
       "      <td>NaN</td>\n",
       "      <td>NaN</td>\n",
       "      <td>UN</td>\n",
       "      <td>2.0</td>\n",
       "      <td>Não</td>\n",
       "      <td>Comp/tes Elétricos-Instrum Risco de Avar</td>\n",
       "      <td>5</td>\n",
       "    </tr>\n",
       "    <tr>\n",
       "      <th>3</th>\n",
       "      <td>270715</td>\n",
       "      <td>GENERAL ELECTRIC</td>\n",
       "      <td>GL314P</td>\n",
       "      <td>2019-09-07</td>\n",
       "      <td>S_DISJ_SF6</td>\n",
       "      <td>2017</td>\n",
       "      <td>C</td>\n",
       "      <td>230.0</td>\n",
       "      <td>Bay de Linha</td>\n",
       "      <td>9758413.0</td>\n",
       "      <td>...</td>\n",
       "      <td>2024-03-08</td>\n",
       "      <td>NaN</td>\n",
       "      <td>0.0</td>\n",
       "      <td>NaN</td>\n",
       "      <td>NaN</td>\n",
       "      <td>UN</td>\n",
       "      <td>2.0</td>\n",
       "      <td>Não</td>\n",
       "      <td>Comp/tes Mecânicos com Risco de Avaria</td>\n",
       "      <td>5</td>\n",
       "    </tr>\n",
       "    <tr>\n",
       "      <th>4</th>\n",
       "      <td>270715</td>\n",
       "      <td>GENERAL ELECTRIC</td>\n",
       "      <td>GL314P</td>\n",
       "      <td>2019-09-07</td>\n",
       "      <td>S_DISJ_SF6</td>\n",
       "      <td>2017</td>\n",
       "      <td>C</td>\n",
       "      <td>230.0</td>\n",
       "      <td>Bay de Linha</td>\n",
       "      <td>9758413.0</td>\n",
       "      <td>...</td>\n",
       "      <td>2021-11-24</td>\n",
       "      <td>NaN</td>\n",
       "      <td>0.0</td>\n",
       "      <td>NaN</td>\n",
       "      <td>NaN</td>\n",
       "      <td>UN</td>\n",
       "      <td>2.0</td>\n",
       "      <td>Não</td>\n",
       "      <td>Comp/tes Mecânicos com Risco de Avaria</td>\n",
       "      <td>5</td>\n",
       "    </tr>\n",
       "  </tbody>\n",
       "</table>\n",
       "<p>5 rows × 21 columns</p>\n",
       "</div>"
      ]
     },
     "execution_count": 3,
     "metadata": {},
     "output_type": "execute_result"
    }
   ],
   "execution_count": 3
  },
  {
   "metadata": {
    "ExecuteTime": {
     "end_time": "2025-03-23T18:46:34.412732Z",
     "start_time": "2025-03-23T18:46:34.386312Z"
    }
   },
   "cell_type": "code",
   "source": "len(df_cadastro['Equipamento'].unique()), len(df_medidas['Equipamento'].unique())",
   "id": "b2283d4a2f6b309",
   "outputs": [
    {
     "data": {
      "text/plain": [
       "(2827, 2663)"
      ]
     },
     "execution_count": 5,
     "metadata": {},
     "output_type": "execute_result"
    }
   ],
   "execution_count": 5
  },
  {
   "metadata": {
    "ExecuteTime": {
     "end_time": "2025-03-23T18:50:24.683542Z",
     "start_time": "2025-03-23T18:50:24.638476Z"
    }
   },
   "cell_type": "code",
   "source": "df_cadastro.info()",
   "id": "51564ffb636e8ca7",
   "outputs": [
    {
     "name": "stdout",
     "output_type": "stream",
     "text": [
      "<class 'pandas.core.frame.DataFrame'>\n",
      "RangeIndex: 2827 entries, 0 to 2826\n",
      "Data columns (total 9 columns):\n",
      " #   Column           Non-Null Count  Dtype         \n",
      "---  ------           --------------  -----         \n",
      " 0   Equipamento      2827 non-null   int64         \n",
      " 1   Fabricante       2827 non-null   object        \n",
      " 2   Modelo           2810 non-null   object        \n",
      " 3   Dt.entr.serviço  2826 non-null   datetime64[ns]\n",
      " 4   Classe           2827 non-null   object        \n",
      " 5   Ano construção   2827 non-null   int64         \n",
      " 6   Código ABC       2827 non-null   object        \n",
      " 7   Tensão           2827 non-null   float64       \n",
      " 8   Tipo Instalação  2827 non-null   object        \n",
      "dtypes: datetime64[ns](1), float64(1), int64(2), object(5)\n",
      "memory usage: 198.9+ KB\n"
     ]
    }
   ],
   "execution_count": 6
  },
  {
   "metadata": {
    "ExecuteTime": {
     "end_time": "2025-03-23T18:51:16.640477Z",
     "start_time": "2025-03-23T18:51:16.536852Z"
    }
   },
   "cell_type": "code",
   "source": [
    "df2 = pd.merge(df_medidas, df_cadastro, how='left', on='Equipamento')\n",
    "df2['Fabricante'].isna().any()"
   ],
   "id": "17183b41aa607992",
   "outputs": [
    {
     "data": {
      "text/plain": [
       "np.True_"
      ]
     },
     "execution_count": 8,
     "metadata": {},
     "output_type": "execute_result"
    }
   ],
   "execution_count": 8
  },
  {
   "metadata": {
    "ExecuteTime": {
     "end_time": "2025-03-23T18:51:41.888225Z",
     "start_time": "2025-03-23T18:51:41.826401Z"
    }
   },
   "cell_type": "code",
   "source": "df2[df2['Fabricante'].isna()].head()",
   "id": "fe9240774513747f",
   "outputs": [
    {
     "data": {
      "text/plain": [
       "    Equipamento  Ponto medição  Doc.medição       Data  Valor teórico  \\\n",
       "18       467509         467492       732683 2015-09-27            1.0   \n",
       "\n",
       "    LimInfIntMed.  LimSupIntMed.  ValMed/PosTCont Unid.caracter.  \\\n",
       "18            0.0            1.0             0.29              %   \n",
       "\n",
       "    Cód.valorização  ...                        Denominação  \\\n",
       "18              NaN  ...  Fator de Potencia Bucha B2 Fase A   \n",
       "\n",
       "                          Texto Fabricante Modelo Dt.entr.serviço Classe  \\\n",
       "18  Ensaio realizado 12/05/2009        NaN    NaN             NaT    NaN   \n",
       "\n",
       "   Ano construção  Código ABC Tensão  Tipo Instalação  \n",
       "18            NaN         NaN    NaN              NaN  \n",
       "\n",
       "[1 rows x 21 columns]"
      ],
      "text/html": [
       "<div>\n",
       "<style scoped>\n",
       "    .dataframe tbody tr th:only-of-type {\n",
       "        vertical-align: middle;\n",
       "    }\n",
       "\n",
       "    .dataframe tbody tr th {\n",
       "        vertical-align: top;\n",
       "    }\n",
       "\n",
       "    .dataframe thead th {\n",
       "        text-align: right;\n",
       "    }\n",
       "</style>\n",
       "<table border=\"1\" class=\"dataframe\">\n",
       "  <thead>\n",
       "    <tr style=\"text-align: right;\">\n",
       "      <th></th>\n",
       "      <th>Equipamento</th>\n",
       "      <th>Ponto medição</th>\n",
       "      <th>Doc.medição</th>\n",
       "      <th>Data</th>\n",
       "      <th>Valor teórico</th>\n",
       "      <th>LimInfIntMed.</th>\n",
       "      <th>LimSupIntMed.</th>\n",
       "      <th>ValMed/PosTCont</th>\n",
       "      <th>Unid.caracter.</th>\n",
       "      <th>Cód.valorização</th>\n",
       "      <th>...</th>\n",
       "      <th>Denominação</th>\n",
       "      <th>Texto</th>\n",
       "      <th>Fabricante</th>\n",
       "      <th>Modelo</th>\n",
       "      <th>Dt.entr.serviço</th>\n",
       "      <th>Classe</th>\n",
       "      <th>Ano construção</th>\n",
       "      <th>Código ABC</th>\n",
       "      <th>Tensão</th>\n",
       "      <th>Tipo Instalação</th>\n",
       "    </tr>\n",
       "  </thead>\n",
       "  <tbody>\n",
       "    <tr>\n",
       "      <th>18</th>\n",
       "      <td>467509</td>\n",
       "      <td>467492</td>\n",
       "      <td>732683</td>\n",
       "      <td>2015-09-27</td>\n",
       "      <td>1.0</td>\n",
       "      <td>0.0</td>\n",
       "      <td>1.0</td>\n",
       "      <td>0.29</td>\n",
       "      <td>%</td>\n",
       "      <td>NaN</td>\n",
       "      <td>...</td>\n",
       "      <td>Fator de Potencia Bucha B2 Fase A</td>\n",
       "      <td>Ensaio realizado 12/05/2009</td>\n",
       "      <td>NaN</td>\n",
       "      <td>NaN</td>\n",
       "      <td>NaT</td>\n",
       "      <td>NaN</td>\n",
       "      <td>NaN</td>\n",
       "      <td>NaN</td>\n",
       "      <td>NaN</td>\n",
       "      <td>NaN</td>\n",
       "    </tr>\n",
       "  </tbody>\n",
       "</table>\n",
       "<p>1 rows × 21 columns</p>\n",
       "</div>"
      ]
     },
     "execution_count": 9,
     "metadata": {},
     "output_type": "execute_result"
    }
   ],
   "execution_count": 9
  },
  {
   "metadata": {
    "ExecuteTime": {
     "end_time": "2025-03-23T18:55:14.596785Z",
     "start_time": "2025-03-23T18:55:14.580222Z"
    }
   },
   "cell_type": "code",
   "source": [
    "del df2\n",
    "del df_medidas, df_cadastro"
   ],
   "id": "d1bd62dcd6428f95",
   "outputs": [],
   "execution_count": 10
  },
  {
   "metadata": {
    "ExecuteTime": {
     "end_time": "2025-03-23T18:55:59.713949Z",
     "start_time": "2025-03-23T18:55:59.432760Z"
    }
   },
   "cell_type": "code",
   "source": "df.describe()",
   "id": "43a670cbcbf37f6c",
   "outputs": [
    {
     "data": {
      "text/plain": [
       "         Equipamento                Dt.entr.serviço  Ano construção  \\\n",
       "count  143163.000000                         143144   143163.000000   \n",
       "mean   188875.599471  2001-06-20 16:16:14.593416320     1997.836222   \n",
       "min    127874.000000            1960-01-01 00:00:00     1947.000000   \n",
       "25%    129193.000000            1985-10-01 00:00:00     1980.000000   \n",
       "50%    158150.000000            2006-09-03 00:00:00     2005.000000   \n",
       "75%    223956.000000            2013-08-09 00:00:00     2011.000000   \n",
       "max    501479.000000            2025-01-09 00:00:00     2024.000000   \n",
       "std     76348.000440                            NaN       17.613254   \n",
       "\n",
       "              Tensão  Ponto medição   Doc.medição  \\\n",
       "count  143163.000000   1.429980e+05  1.429980e+05   \n",
       "mean      219.044727   3.089195e+06  4.127656e+06   \n",
       "min         6.600000   1.017970e+05  1.856400e+04   \n",
       "25%        88.000000   2.789752e+05  2.064732e+06   \n",
       "50%       138.000000   4.619865e+05  4.080962e+06   \n",
       "75%       440.000000   4.991261e+06  6.335042e+06   \n",
       "max       550.000000   1.014866e+07  7.970217e+06   \n",
       "std       168.970734   3.629881e+06  2.428139e+06   \n",
       "\n",
       "                                Data  Valor teórico  LimInfIntMed.  \\\n",
       "count                         142998  106362.000000  113232.000000   \n",
       "mean   2021-09-23 16:52:43.009273088    2213.070112    1929.034940   \n",
       "min              2002-03-06 00:00:00     -21.000000     -60.000000   \n",
       "25%              2020-03-10 00:00:00      21.500000       0.000000   \n",
       "50%              2022-06-20 00:00:00      47.000000      20.000000   \n",
       "75%              2024-02-13 00:00:00     120.000000      85.000000   \n",
       "max              2025-02-14 00:00:00  999999.000000  210000.000000   \n",
       "std                              NaN   17026.397748   13605.378764   \n",
       "\n",
       "       LimSupIntMed.  ValMed/PosTCont  Cód.valorização  \n",
       "count   7.028700e+04     1.339640e+05     13737.000000  \n",
       "mean    1.077169e+06     5.542112e+07         2.012084  \n",
       "min    -1.500000e+01    -6.000000e+01         1.000000  \n",
       "25%     1.440000e+01     1.520000e+01         2.000000  \n",
       "50%     4.000000e+01     4.000000e+01         2.000000  \n",
       "75%     9.000000e+01     1.696000e+02         2.000000  \n",
       "max     1.000000e+08     7.370000e+12         5.000000  \n",
       "std     1.032194e+07     2.013601e+10         0.433222  "
      ],
      "text/html": [
       "<div>\n",
       "<style scoped>\n",
       "    .dataframe tbody tr th:only-of-type {\n",
       "        vertical-align: middle;\n",
       "    }\n",
       "\n",
       "    .dataframe tbody tr th {\n",
       "        vertical-align: top;\n",
       "    }\n",
       "\n",
       "    .dataframe thead th {\n",
       "        text-align: right;\n",
       "    }\n",
       "</style>\n",
       "<table border=\"1\" class=\"dataframe\">\n",
       "  <thead>\n",
       "    <tr style=\"text-align: right;\">\n",
       "      <th></th>\n",
       "      <th>Equipamento</th>\n",
       "      <th>Dt.entr.serviço</th>\n",
       "      <th>Ano construção</th>\n",
       "      <th>Tensão</th>\n",
       "      <th>Ponto medição</th>\n",
       "      <th>Doc.medição</th>\n",
       "      <th>Data</th>\n",
       "      <th>Valor teórico</th>\n",
       "      <th>LimInfIntMed.</th>\n",
       "      <th>LimSupIntMed.</th>\n",
       "      <th>ValMed/PosTCont</th>\n",
       "      <th>Cód.valorização</th>\n",
       "    </tr>\n",
       "  </thead>\n",
       "  <tbody>\n",
       "    <tr>\n",
       "      <th>count</th>\n",
       "      <td>143163.000000</td>\n",
       "      <td>143144</td>\n",
       "      <td>143163.000000</td>\n",
       "      <td>143163.000000</td>\n",
       "      <td>1.429980e+05</td>\n",
       "      <td>1.429980e+05</td>\n",
       "      <td>142998</td>\n",
       "      <td>106362.000000</td>\n",
       "      <td>113232.000000</td>\n",
       "      <td>7.028700e+04</td>\n",
       "      <td>1.339640e+05</td>\n",
       "      <td>13737.000000</td>\n",
       "    </tr>\n",
       "    <tr>\n",
       "      <th>mean</th>\n",
       "      <td>188875.599471</td>\n",
       "      <td>2001-06-20 16:16:14.593416320</td>\n",
       "      <td>1997.836222</td>\n",
       "      <td>219.044727</td>\n",
       "      <td>3.089195e+06</td>\n",
       "      <td>4.127656e+06</td>\n",
       "      <td>2021-09-23 16:52:43.009273088</td>\n",
       "      <td>2213.070112</td>\n",
       "      <td>1929.034940</td>\n",
       "      <td>1.077169e+06</td>\n",
       "      <td>5.542112e+07</td>\n",
       "      <td>2.012084</td>\n",
       "    </tr>\n",
       "    <tr>\n",
       "      <th>min</th>\n",
       "      <td>127874.000000</td>\n",
       "      <td>1960-01-01 00:00:00</td>\n",
       "      <td>1947.000000</td>\n",
       "      <td>6.600000</td>\n",
       "      <td>1.017970e+05</td>\n",
       "      <td>1.856400e+04</td>\n",
       "      <td>2002-03-06 00:00:00</td>\n",
       "      <td>-21.000000</td>\n",
       "      <td>-60.000000</td>\n",
       "      <td>-1.500000e+01</td>\n",
       "      <td>-6.000000e+01</td>\n",
       "      <td>1.000000</td>\n",
       "    </tr>\n",
       "    <tr>\n",
       "      <th>25%</th>\n",
       "      <td>129193.000000</td>\n",
       "      <td>1985-10-01 00:00:00</td>\n",
       "      <td>1980.000000</td>\n",
       "      <td>88.000000</td>\n",
       "      <td>2.789752e+05</td>\n",
       "      <td>2.064732e+06</td>\n",
       "      <td>2020-03-10 00:00:00</td>\n",
       "      <td>21.500000</td>\n",
       "      <td>0.000000</td>\n",
       "      <td>1.440000e+01</td>\n",
       "      <td>1.520000e+01</td>\n",
       "      <td>2.000000</td>\n",
       "    </tr>\n",
       "    <tr>\n",
       "      <th>50%</th>\n",
       "      <td>158150.000000</td>\n",
       "      <td>2006-09-03 00:00:00</td>\n",
       "      <td>2005.000000</td>\n",
       "      <td>138.000000</td>\n",
       "      <td>4.619865e+05</td>\n",
       "      <td>4.080962e+06</td>\n",
       "      <td>2022-06-20 00:00:00</td>\n",
       "      <td>47.000000</td>\n",
       "      <td>20.000000</td>\n",
       "      <td>4.000000e+01</td>\n",
       "      <td>4.000000e+01</td>\n",
       "      <td>2.000000</td>\n",
       "    </tr>\n",
       "    <tr>\n",
       "      <th>75%</th>\n",
       "      <td>223956.000000</td>\n",
       "      <td>2013-08-09 00:00:00</td>\n",
       "      <td>2011.000000</td>\n",
       "      <td>440.000000</td>\n",
       "      <td>4.991261e+06</td>\n",
       "      <td>6.335042e+06</td>\n",
       "      <td>2024-02-13 00:00:00</td>\n",
       "      <td>120.000000</td>\n",
       "      <td>85.000000</td>\n",
       "      <td>9.000000e+01</td>\n",
       "      <td>1.696000e+02</td>\n",
       "      <td>2.000000</td>\n",
       "    </tr>\n",
       "    <tr>\n",
       "      <th>max</th>\n",
       "      <td>501479.000000</td>\n",
       "      <td>2025-01-09 00:00:00</td>\n",
       "      <td>2024.000000</td>\n",
       "      <td>550.000000</td>\n",
       "      <td>1.014866e+07</td>\n",
       "      <td>7.970217e+06</td>\n",
       "      <td>2025-02-14 00:00:00</td>\n",
       "      <td>999999.000000</td>\n",
       "      <td>210000.000000</td>\n",
       "      <td>1.000000e+08</td>\n",
       "      <td>7.370000e+12</td>\n",
       "      <td>5.000000</td>\n",
       "    </tr>\n",
       "    <tr>\n",
       "      <th>std</th>\n",
       "      <td>76348.000440</td>\n",
       "      <td>NaN</td>\n",
       "      <td>17.613254</td>\n",
       "      <td>168.970734</td>\n",
       "      <td>3.629881e+06</td>\n",
       "      <td>2.428139e+06</td>\n",
       "      <td>NaN</td>\n",
       "      <td>17026.397748</td>\n",
       "      <td>13605.378764</td>\n",
       "      <td>1.032194e+07</td>\n",
       "      <td>2.013601e+10</td>\n",
       "      <td>0.433222</td>\n",
       "    </tr>\n",
       "  </tbody>\n",
       "</table>\n",
       "</div>"
      ]
     },
     "execution_count": 12,
     "metadata": {},
     "output_type": "execute_result"
    }
   ],
   "execution_count": 12
  },
  {
   "metadata": {
    "ExecuteTime": {
     "end_time": "2025-03-23T18:56:59.296364Z",
     "start_time": "2025-03-23T18:56:59.088729Z"
    }
   },
   "cell_type": "code",
   "source": "df.info()",
   "id": "d0ccce9003d4cbf2",
   "outputs": [
    {
     "name": "stdout",
     "output_type": "stream",
     "text": [
      "<class 'pandas.core.frame.DataFrame'>\n",
      "RangeIndex: 143163 entries, 0 to 143162\n",
      "Data columns (total 21 columns):\n",
      " #   Column           Non-Null Count   Dtype         \n",
      "---  ------           --------------   -----         \n",
      " 0   Equipamento      143163 non-null  int64         \n",
      " 1   Fabricante       143163 non-null  object        \n",
      " 2   Modelo           143146 non-null  object        \n",
      " 3   Dt.entr.serviço  143144 non-null  datetime64[ns]\n",
      " 4   Classe           143163 non-null  object        \n",
      " 5   Ano construção   143163 non-null  int64         \n",
      " 6   Código ABC       143163 non-null  object        \n",
      " 7   Tensão           143163 non-null  float64       \n",
      " 8   Tipo Instalação  143163 non-null  object        \n",
      " 9   Ponto medição    142998 non-null  float64       \n",
      " 10  Doc.medição      142998 non-null  float64       \n",
      " 11  Data             142998 non-null  datetime64[ns]\n",
      " 12  Valor teórico    106362 non-null  float64       \n",
      " 13  LimInfIntMed.    113232 non-null  float64       \n",
      " 14  LimSupIntMed.    70287 non-null   float64       \n",
      " 15  ValMed/PosTCont  133964 non-null  float64       \n",
      " 16  Unid.caracter.   142998 non-null  object        \n",
      " 17  Cód.valorização  13737 non-null   float64       \n",
      " 18  Txt.code codif.  13737 non-null   object        \n",
      " 19  Denominação      142998 non-null  object        \n",
      " 20  Texto            99793 non-null   object        \n",
      "dtypes: datetime64[ns](2), float64(8), int64(2), object(9)\n",
      "memory usage: 22.9+ MB\n"
     ]
    }
   ],
   "execution_count": 13
  },
  {
   "metadata": {
    "ExecuteTime": {
     "end_time": "2025-03-23T19:01:31.652898Z",
     "start_time": "2025-03-23T19:01:31.560882Z"
    }
   },
   "cell_type": "code",
   "source": [
    "df_gpd_equipamento = df.groupby('Equipamento').agg({\n",
    "    'Ponto medição': 'nunique',\n",
    "    'Data': 'nunique',\n",
    "})\n",
    "df_gpd_equipamento.head()"
   ],
   "id": "7eddb5c1bdd9d9b",
   "outputs": [
    {
     "data": {
      "text/plain": [
       "             Ponto medição  Data\n",
       "Equipamento                     \n",
       "127874                  35    16\n",
       "127875                  18     7\n",
       "127876                 124    11\n",
       "127878                  31    11\n",
       "127880                  42    10"
      ],
      "text/html": [
       "<div>\n",
       "<style scoped>\n",
       "    .dataframe tbody tr th:only-of-type {\n",
       "        vertical-align: middle;\n",
       "    }\n",
       "\n",
       "    .dataframe tbody tr th {\n",
       "        vertical-align: top;\n",
       "    }\n",
       "\n",
       "    .dataframe thead th {\n",
       "        text-align: right;\n",
       "    }\n",
       "</style>\n",
       "<table border=\"1\" class=\"dataframe\">\n",
       "  <thead>\n",
       "    <tr style=\"text-align: right;\">\n",
       "      <th></th>\n",
       "      <th>Ponto medição</th>\n",
       "      <th>Data</th>\n",
       "    </tr>\n",
       "    <tr>\n",
       "      <th>Equipamento</th>\n",
       "      <th></th>\n",
       "      <th></th>\n",
       "    </tr>\n",
       "  </thead>\n",
       "  <tbody>\n",
       "    <tr>\n",
       "      <th>127874</th>\n",
       "      <td>35</td>\n",
       "      <td>16</td>\n",
       "    </tr>\n",
       "    <tr>\n",
       "      <th>127875</th>\n",
       "      <td>18</td>\n",
       "      <td>7</td>\n",
       "    </tr>\n",
       "    <tr>\n",
       "      <th>127876</th>\n",
       "      <td>124</td>\n",
       "      <td>11</td>\n",
       "    </tr>\n",
       "    <tr>\n",
       "      <th>127878</th>\n",
       "      <td>31</td>\n",
       "      <td>11</td>\n",
       "    </tr>\n",
       "    <tr>\n",
       "      <th>127880</th>\n",
       "      <td>42</td>\n",
       "      <td>10</td>\n",
       "    </tr>\n",
       "  </tbody>\n",
       "</table>\n",
       "</div>"
      ]
     },
     "execution_count": 14,
     "metadata": {},
     "output_type": "execute_result"
    }
   ],
   "execution_count": 14
  },
  {
   "metadata": {
    "ExecuteTime": {
     "end_time": "2025-03-23T19:02:27.678686Z",
     "start_time": "2025-03-23T19:02:26.767664Z"
    }
   },
   "cell_type": "code",
   "source": [
    "plt.hist(df_gpd_equipamento['Ponto medição'])\n",
    "plt.show()"
   ],
   "id": "6f2c578db6522d06",
   "outputs": [
    {
     "data": {
      "text/plain": [
       "(array([ 935., 1324.,  313.,  166.,   17.,   31.,   21.,    7.,    9.,\n",
       "           4.]),\n",
       " array([  0. ,  17.9,  35.8,  53.7,  71.6,  89.5, 107.4, 125.3, 143.2,\n",
       "        161.1, 179. ]),\n",
       " <BarContainer object of 10 artists>)"
      ]
     },
     "execution_count": 15,
     "metadata": {},
     "output_type": "execute_result"
    },
    {
     "data": {
      "text/plain": [
       "<Figure size 640x480 with 1 Axes>"
      ],
      "image/png": "[encoded data removed]"
     },
     "metadata": {},
     "output_type": "display_data"
    }
   ],
   "execution_count": 15
  },
  {
   "metadata": {
    "ExecuteTime": {
     "end_time": "2025-03-23T19:02:53.743015Z",
     "start_time": "2025-03-23T19:02:53.337235Z"
    }
   },
   "cell_type": "code",
   "source": [
    "plt.hist(df_gpd_equipamento['Data'])\n",
    "plt.show()"
   ],
   "id": "f0d0905099267298",
   "outputs": [
    {
     "data": {
      "text/plain": [
       "<Figure size 640x480 with 1 Axes>"
      ],
      "image/png": "[encoded data removed]"
     },
     "metadata": {},
     "output_type": "display_data"
    }
   ],
   "execution_count": 16
  },
  {
   "metadata": {
    "ExecuteTime": {
     "end_time": "2025-03-23T19:05:34.939037Z",
     "start_time": "2025-03-23T19:05:34.446999Z"
    }
   },
   "cell_type": "code",
   "source": [
    "df_gpd_data = df.groupby('Data').agg({'Equipamento': 'nunique'})\n",
    "plt.plot(df_gpd_data.index, df_gpd_data['Equipamento'])\n",
    "plt.show()"
   ],
   "id": "95d74629f226d8a7",
   "outputs": [
    {
     "data": {
      "text/plain": [
       "<Figure size 640x480 with 1 Axes>"
      ],
      "image/png": "[encoded data removed]"
     },
     "metadata": {},
     "output_type": "display_data"
    }
   ],
   "execution_count": 17
  },
  {
   "metadata": {
    "ExecuteTime": {
     "end_time": "2025-03-23T19:06:17.911563Z",
     "start_time": "2025-03-23T19:06:17.653780Z"
    }
   },
   "cell_type": "code",
   "source": [
    "plt.plot(df_gpd_data.index, df_gpd_data['Equipamento'].cumsum())\n",
    "plt.show()"
   ],
   "id": "b63710c4ff1a4575",
   "outputs": [
    {
     "data": {
      "text/plain": [
       "<Figure size 640x480 with 1 Axes>"
      ],
      "image/png": "[encoded data removed]"
     },
     "metadata": {},
     "output_type": "display_data"
    }
   ],
   "execution_count": 18
  },
  {
   "metadata": {
    "ExecuteTime": {
     "end_time": "2025-03-23T19:09:46.374841Z",
     "start_time": "2025-03-23T19:09:46.296179Z"
    }
   },
   "cell_type": "code",
   "source": "df['Texto'].str.isnumeric().sum()",
   "id": "9b39515d6adb6749",
   "outputs": [
    {
     "data": {
      "text/plain": [
       "86255"
      ]
     },
     "execution_count": 19,
     "metadata": {},
     "output_type": "execute_result"
    }
   ],
   "execution_count": 19
  },
  {
   "metadata": {},
   "cell_type": "code",
   "outputs": [],
   "execution_count": null,
   "source": "",
   "id": "29b31d0d9f91c54f"
  }
 ],
 "metadata": {
  "kernelspec": {
   "display_name": "Python 3",
   "language": "python",
   "name": "python3"
  },
  "language_info": {
   "codemirror_mode": {
    "name": "ipython",
    "version": 2
   },
   "file_extension": ".py",
   "mimetype": "text/x-python",
   "name": "python",
   "nbconvert_exporter": "python",
   "pygments_lexer": "ipython2",
   "version": "2.7.6"
  }
 },
 "nbformat": 4,
 "nbformat_minor": 5
}
